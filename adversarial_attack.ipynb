{
  "nbformat": 4,
  "nbformat_minor": 0,
  "metadata": {
    "colab": {
      "name": "adversarial_attack.ipynb",
      "provenance": []
    },
    "kernelspec": {
      "name": "python3",
      "display_name": "Python 3"
    },
    "language_info": {
      "name": "python"
    },
    "accelerator": "GPU",
    "widgets": {
      "application/vnd.jupyter.widget-state+json": {
        "bd4fc2bb6b084143a00fd6f7450615f7": {
          "model_module": "@jupyter-widgets/controls",
          "model_name": "HBoxModel",
          "model_module_version": "1.5.0",
          "state": {
            "_view_name": "HBoxView",
            "_dom_classes": [],
            "_model_name": "HBoxModel",
            "_view_module": "@jupyter-widgets/controls",
            "_model_module_version": "1.5.0",
            "_view_count": null,
            "_view_module_version": "1.5.0",
            "box_style": "",
            "layout": "IPY_MODEL_05f951d7633b487aacc7aa74c4956067",
            "_model_module": "@jupyter-widgets/controls",
            "children": [
              "IPY_MODEL_bf344e78786c44c29c1d87237466d90d",
              "IPY_MODEL_9294380269124530973ab1381c32be46",
              "IPY_MODEL_f076a5dcbf00433587a87d911af1ef84"
            ]
          }
        },
        "05f951d7633b487aacc7aa74c4956067": {
          "model_module": "@jupyter-widgets/base",
          "model_name": "LayoutModel",
          "model_module_version": "1.2.0",
          "state": {
            "_view_name": "LayoutView",
            "grid_template_rows": null,
            "right": null,
            "justify_content": null,
            "_view_module": "@jupyter-widgets/base",
            "overflow": null,
            "_model_module_version": "1.2.0",
            "_view_count": null,
            "flex_flow": null,
            "width": null,
            "min_width": null,
            "border": null,
            "align_items": null,
            "bottom": null,
            "_model_module": "@jupyter-widgets/base",
            "top": null,
            "grid_column": null,
            "overflow_y": null,
            "overflow_x": null,
            "grid_auto_flow": null,
            "grid_area": null,
            "grid_template_columns": null,
            "flex": null,
            "_model_name": "LayoutModel",
            "justify_items": null,
            "grid_row": null,
            "max_height": null,
            "align_content": null,
            "visibility": null,
            "align_self": null,
            "height": null,
            "min_height": null,
            "padding": null,
            "grid_auto_rows": null,
            "grid_gap": null,
            "max_width": null,
            "order": null,
            "_view_module_version": "1.2.0",
            "grid_template_areas": null,
            "object_position": null,
            "object_fit": null,
            "grid_auto_columns": null,
            "margin": null,
            "display": null,
            "left": null
          }
        },
        "bf344e78786c44c29c1d87237466d90d": {
          "model_module": "@jupyter-widgets/controls",
          "model_name": "HTMLModel",
          "model_module_version": "1.5.0",
          "state": {
            "_view_name": "HTMLView",
            "style": "IPY_MODEL_c9f3876386de4360a960029f25ff2fcb",
            "_dom_classes": [],
            "description": "",
            "_model_name": "HTMLModel",
            "placeholder": "​",
            "_view_module": "@jupyter-widgets/controls",
            "_model_module_version": "1.5.0",
            "value": "",
            "_view_count": null,
            "_view_module_version": "1.5.0",
            "description_tooltip": null,
            "_model_module": "@jupyter-widgets/controls",
            "layout": "IPY_MODEL_8fd90bfb91fa44d6ba8f668ef2b9e108"
          }
        },
        "9294380269124530973ab1381c32be46": {
          "model_module": "@jupyter-widgets/controls",
          "model_name": "FloatProgressModel",
          "model_module_version": "1.5.0",
          "state": {
            "_view_name": "ProgressView",
            "style": "IPY_MODEL_e9d7c11cb54c426ba67742becf6bf66d",
            "_dom_classes": [],
            "description": "",
            "_model_name": "FloatProgressModel",
            "bar_style": "success",
            "max": 9912422,
            "_view_module": "@jupyter-widgets/controls",
            "_model_module_version": "1.5.0",
            "value": 9912422,
            "_view_count": null,
            "_view_module_version": "1.5.0",
            "orientation": "horizontal",
            "min": 0,
            "description_tooltip": null,
            "_model_module": "@jupyter-widgets/controls",
            "layout": "IPY_MODEL_92073633b92f4636b8391fd3ac31a203"
          }
        },
        "f076a5dcbf00433587a87d911af1ef84": {
          "model_module": "@jupyter-widgets/controls",
          "model_name": "HTMLModel",
          "model_module_version": "1.5.0",
          "state": {
            "_view_name": "HTMLView",
            "style": "IPY_MODEL_6fc61e00024d4b13ab57891136f43951",
            "_dom_classes": [],
            "description": "",
            "_model_name": "HTMLModel",
            "placeholder": "​",
            "_view_module": "@jupyter-widgets/controls",
            "_model_module_version": "1.5.0",
            "value": " 9913344/? [00:00&lt;00:00, 21851621.00it/s]",
            "_view_count": null,
            "_view_module_version": "1.5.0",
            "description_tooltip": null,
            "_model_module": "@jupyter-widgets/controls",
            "layout": "IPY_MODEL_78ff5ad290084759bfa448777800c18e"
          }
        },
        "c9f3876386de4360a960029f25ff2fcb": {
          "model_module": "@jupyter-widgets/controls",
          "model_name": "DescriptionStyleModel",
          "model_module_version": "1.5.0",
          "state": {
            "_view_name": "StyleView",
            "_model_name": "DescriptionStyleModel",
            "description_width": "",
            "_view_module": "@jupyter-widgets/base",
            "_model_module_version": "1.5.0",
            "_view_count": null,
            "_view_module_version": "1.2.0",
            "_model_module": "@jupyter-widgets/controls"
          }
        },
        "8fd90bfb91fa44d6ba8f668ef2b9e108": {
          "model_module": "@jupyter-widgets/base",
          "model_name": "LayoutModel",
          "model_module_version": "1.2.0",
          "state": {
            "_view_name": "LayoutView",
            "grid_template_rows": null,
            "right": null,
            "justify_content": null,
            "_view_module": "@jupyter-widgets/base",
            "overflow": null,
            "_model_module_version": "1.2.0",
            "_view_count": null,
            "flex_flow": null,
            "width": null,
            "min_width": null,
            "border": null,
            "align_items": null,
            "bottom": null,
            "_model_module": "@jupyter-widgets/base",
            "top": null,
            "grid_column": null,
            "overflow_y": null,
            "overflow_x": null,
            "grid_auto_flow": null,
            "grid_area": null,
            "grid_template_columns": null,
            "flex": null,
            "_model_name": "LayoutModel",
            "justify_items": null,
            "grid_row": null,
            "max_height": null,
            "align_content": null,
            "visibility": null,
            "align_self": null,
            "height": null,
            "min_height": null,
            "padding": null,
            "grid_auto_rows": null,
            "grid_gap": null,
            "max_width": null,
            "order": null,
            "_view_module_version": "1.2.0",
            "grid_template_areas": null,
            "object_position": null,
            "object_fit": null,
            "grid_auto_columns": null,
            "margin": null,
            "display": null,
            "left": null
          }
        },
        "e9d7c11cb54c426ba67742becf6bf66d": {
          "model_module": "@jupyter-widgets/controls",
          "model_name": "ProgressStyleModel",
          "model_module_version": "1.5.0",
          "state": {
            "_view_name": "StyleView",
            "_model_name": "ProgressStyleModel",
            "description_width": "",
            "_view_module": "@jupyter-widgets/base",
            "_model_module_version": "1.5.0",
            "_view_count": null,
            "_view_module_version": "1.2.0",
            "bar_color": null,
            "_model_module": "@jupyter-widgets/controls"
          }
        },
        "92073633b92f4636b8391fd3ac31a203": {
          "model_module": "@jupyter-widgets/base",
          "model_name": "LayoutModel",
          "model_module_version": "1.2.0",
          "state": {
            "_view_name": "LayoutView",
            "grid_template_rows": null,
            "right": null,
            "justify_content": null,
            "_view_module": "@jupyter-widgets/base",
            "overflow": null,
            "_model_module_version": "1.2.0",
            "_view_count": null,
            "flex_flow": null,
            "width": null,
            "min_width": null,
            "border": null,
            "align_items": null,
            "bottom": null,
            "_model_module": "@jupyter-widgets/base",
            "top": null,
            "grid_column": null,
            "overflow_y": null,
            "overflow_x": null,
            "grid_auto_flow": null,
            "grid_area": null,
            "grid_template_columns": null,
            "flex": null,
            "_model_name": "LayoutModel",
            "justify_items": null,
            "grid_row": null,
            "max_height": null,
            "align_content": null,
            "visibility": null,
            "align_self": null,
            "height": null,
            "min_height": null,
            "padding": null,
            "grid_auto_rows": null,
            "grid_gap": null,
            "max_width": null,
            "order": null,
            "_view_module_version": "1.2.0",
            "grid_template_areas": null,
            "object_position": null,
            "object_fit": null,
            "grid_auto_columns": null,
            "margin": null,
            "display": null,
            "left": null
          }
        },
        "6fc61e00024d4b13ab57891136f43951": {
          "model_module": "@jupyter-widgets/controls",
          "model_name": "DescriptionStyleModel",
          "model_module_version": "1.5.0",
          "state": {
            "_view_name": "StyleView",
            "_model_name": "DescriptionStyleModel",
            "description_width": "",
            "_view_module": "@jupyter-widgets/base",
            "_model_module_version": "1.5.0",
            "_view_count": null,
            "_view_module_version": "1.2.0",
            "_model_module": "@jupyter-widgets/controls"
          }
        },
        "78ff5ad290084759bfa448777800c18e": {
          "model_module": "@jupyter-widgets/base",
          "model_name": "LayoutModel",
          "model_module_version": "1.2.0",
          "state": {
            "_view_name": "LayoutView",
            "grid_template_rows": null,
            "right": null,
            "justify_content": null,
            "_view_module": "@jupyter-widgets/base",
            "overflow": null,
            "_model_module_version": "1.2.0",
            "_view_count": null,
            "flex_flow": null,
            "width": null,
            "min_width": null,
            "border": null,
            "align_items": null,
            "bottom": null,
            "_model_module": "@jupyter-widgets/base",
            "top": null,
            "grid_column": null,
            "overflow_y": null,
            "overflow_x": null,
            "grid_auto_flow": null,
            "grid_area": null,
            "grid_template_columns": null,
            "flex": null,
            "_model_name": "LayoutModel",
            "justify_items": null,
            "grid_row": null,
            "max_height": null,
            "align_content": null,
            "visibility": null,
            "align_self": null,
            "height": null,
            "min_height": null,
            "padding": null,
            "grid_auto_rows": null,
            "grid_gap": null,
            "max_width": null,
            "order": null,
            "_view_module_version": "1.2.0",
            "grid_template_areas": null,
            "object_position": null,
            "object_fit": null,
            "grid_auto_columns": null,
            "margin": null,
            "display": null,
            "left": null
          }
        },
        "821ee541fb314c4f8475458d8bda8fdd": {
          "model_module": "@jupyter-widgets/controls",
          "model_name": "HBoxModel",
          "model_module_version": "1.5.0",
          "state": {
            "_view_name": "HBoxView",
            "_dom_classes": [],
            "_model_name": "HBoxModel",
            "_view_module": "@jupyter-widgets/controls",
            "_model_module_version": "1.5.0",
            "_view_count": null,
            "_view_module_version": "1.5.0",
            "box_style": "",
            "layout": "IPY_MODEL_b64b57d6b746423b92a12453621b86e1",
            "_model_module": "@jupyter-widgets/controls",
            "children": [
              "IPY_MODEL_17f0fbe08581465e885f80d6d4f2f14b",
              "IPY_MODEL_ea959a0d6ddc49b5b845d864613e0fa5",
              "IPY_MODEL_6077406655e74843916774201293f6ff"
            ]
          }
        },
        "b64b57d6b746423b92a12453621b86e1": {
          "model_module": "@jupyter-widgets/base",
          "model_name": "LayoutModel",
          "model_module_version": "1.2.0",
          "state": {
            "_view_name": "LayoutView",
            "grid_template_rows": null,
            "right": null,
            "justify_content": null,
            "_view_module": "@jupyter-widgets/base",
            "overflow": null,
            "_model_module_version": "1.2.0",
            "_view_count": null,
            "flex_flow": null,
            "width": null,
            "min_width": null,
            "border": null,
            "align_items": null,
            "bottom": null,
            "_model_module": "@jupyter-widgets/base",
            "top": null,
            "grid_column": null,
            "overflow_y": null,
            "overflow_x": null,
            "grid_auto_flow": null,
            "grid_area": null,
            "grid_template_columns": null,
            "flex": null,
            "_model_name": "LayoutModel",
            "justify_items": null,
            "grid_row": null,
            "max_height": null,
            "align_content": null,
            "visibility": null,
            "align_self": null,
            "height": null,
            "min_height": null,
            "padding": null,
            "grid_auto_rows": null,
            "grid_gap": null,
            "max_width": null,
            "order": null,
            "_view_module_version": "1.2.0",
            "grid_template_areas": null,
            "object_position": null,
            "object_fit": null,
            "grid_auto_columns": null,
            "margin": null,
            "display": null,
            "left": null
          }
        },
        "17f0fbe08581465e885f80d6d4f2f14b": {
          "model_module": "@jupyter-widgets/controls",
          "model_name": "HTMLModel",
          "model_module_version": "1.5.0",
          "state": {
            "_view_name": "HTMLView",
            "style": "IPY_MODEL_4f8e6584356c41a2bcb780da0ccf111b",
            "_dom_classes": [],
            "description": "",
            "_model_name": "HTMLModel",
            "placeholder": "​",
            "_view_module": "@jupyter-widgets/controls",
            "_model_module_version": "1.5.0",
            "value": "",
            "_view_count": null,
            "_view_module_version": "1.5.0",
            "description_tooltip": null,
            "_model_module": "@jupyter-widgets/controls",
            "layout": "IPY_MODEL_8881b6da66334c64860af09c83bbbee8"
          }
        },
        "ea959a0d6ddc49b5b845d864613e0fa5": {
          "model_module": "@jupyter-widgets/controls",
          "model_name": "FloatProgressModel",
          "model_module_version": "1.5.0",
          "state": {
            "_view_name": "ProgressView",
            "style": "IPY_MODEL_d7aa9e6a19d745e6bfaa76bfb6036765",
            "_dom_classes": [],
            "description": "",
            "_model_name": "FloatProgressModel",
            "bar_style": "success",
            "max": 28881,
            "_view_module": "@jupyter-widgets/controls",
            "_model_module_version": "1.5.0",
            "value": 28881,
            "_view_count": null,
            "_view_module_version": "1.5.0",
            "orientation": "horizontal",
            "min": 0,
            "description_tooltip": null,
            "_model_module": "@jupyter-widgets/controls",
            "layout": "IPY_MODEL_35787d7cd2d34abaab801e04e11ff689"
          }
        },
        "6077406655e74843916774201293f6ff": {
          "model_module": "@jupyter-widgets/controls",
          "model_name": "HTMLModel",
          "model_module_version": "1.5.0",
          "state": {
            "_view_name": "HTMLView",
            "style": "IPY_MODEL_498a8f9f8ca644d8ba4e91e2217cf79c",
            "_dom_classes": [],
            "description": "",
            "_model_name": "HTMLModel",
            "placeholder": "​",
            "_view_module": "@jupyter-widgets/controls",
            "_model_module_version": "1.5.0",
            "value": " 29696/? [00:00&lt;00:00, 851296.56it/s]",
            "_view_count": null,
            "_view_module_version": "1.5.0",
            "description_tooltip": null,
            "_model_module": "@jupyter-widgets/controls",
            "layout": "IPY_MODEL_116aed6cc458448189c97ba08b43b543"
          }
        },
        "4f8e6584356c41a2bcb780da0ccf111b": {
          "model_module": "@jupyter-widgets/controls",
          "model_name": "DescriptionStyleModel",
          "model_module_version": "1.5.0",
          "state": {
            "_view_name": "StyleView",
            "_model_name": "DescriptionStyleModel",
            "description_width": "",
            "_view_module": "@jupyter-widgets/base",
            "_model_module_version": "1.5.0",
            "_view_count": null,
            "_view_module_version": "1.2.0",
            "_model_module": "@jupyter-widgets/controls"
          }
        },
        "8881b6da66334c64860af09c83bbbee8": {
          "model_module": "@jupyter-widgets/base",
          "model_name": "LayoutModel",
          "model_module_version": "1.2.0",
          "state": {
            "_view_name": "LayoutView",
            "grid_template_rows": null,
            "right": null,
            "justify_content": null,
            "_view_module": "@jupyter-widgets/base",
            "overflow": null,
            "_model_module_version": "1.2.0",
            "_view_count": null,
            "flex_flow": null,
            "width": null,
            "min_width": null,
            "border": null,
            "align_items": null,
            "bottom": null,
            "_model_module": "@jupyter-widgets/base",
            "top": null,
            "grid_column": null,
            "overflow_y": null,
            "overflow_x": null,
            "grid_auto_flow": null,
            "grid_area": null,
            "grid_template_columns": null,
            "flex": null,
            "_model_name": "LayoutModel",
            "justify_items": null,
            "grid_row": null,
            "max_height": null,
            "align_content": null,
            "visibility": null,
            "align_self": null,
            "height": null,
            "min_height": null,
            "padding": null,
            "grid_auto_rows": null,
            "grid_gap": null,
            "max_width": null,
            "order": null,
            "_view_module_version": "1.2.0",
            "grid_template_areas": null,
            "object_position": null,
            "object_fit": null,
            "grid_auto_columns": null,
            "margin": null,
            "display": null,
            "left": null
          }
        },
        "d7aa9e6a19d745e6bfaa76bfb6036765": {
          "model_module": "@jupyter-widgets/controls",
          "model_name": "ProgressStyleModel",
          "model_module_version": "1.5.0",
          "state": {
            "_view_name": "StyleView",
            "_model_name": "ProgressStyleModel",
            "description_width": "",
            "_view_module": "@jupyter-widgets/base",
            "_model_module_version": "1.5.0",
            "_view_count": null,
            "_view_module_version": "1.2.0",
            "bar_color": null,
            "_model_module": "@jupyter-widgets/controls"
          }
        },
        "35787d7cd2d34abaab801e04e11ff689": {
          "model_module": "@jupyter-widgets/base",
          "model_name": "LayoutModel",
          "model_module_version": "1.2.0",
          "state": {
            "_view_name": "LayoutView",
            "grid_template_rows": null,
            "right": null,
            "justify_content": null,
            "_view_module": "@jupyter-widgets/base",
            "overflow": null,
            "_model_module_version": "1.2.0",
            "_view_count": null,
            "flex_flow": null,
            "width": null,
            "min_width": null,
            "border": null,
            "align_items": null,
            "bottom": null,
            "_model_module": "@jupyter-widgets/base",
            "top": null,
            "grid_column": null,
            "overflow_y": null,
            "overflow_x": null,
            "grid_auto_flow": null,
            "grid_area": null,
            "grid_template_columns": null,
            "flex": null,
            "_model_name": "LayoutModel",
            "justify_items": null,
            "grid_row": null,
            "max_height": null,
            "align_content": null,
            "visibility": null,
            "align_self": null,
            "height": null,
            "min_height": null,
            "padding": null,
            "grid_auto_rows": null,
            "grid_gap": null,
            "max_width": null,
            "order": null,
            "_view_module_version": "1.2.0",
            "grid_template_areas": null,
            "object_position": null,
            "object_fit": null,
            "grid_auto_columns": null,
            "margin": null,
            "display": null,
            "left": null
          }
        },
        "498a8f9f8ca644d8ba4e91e2217cf79c": {
          "model_module": "@jupyter-widgets/controls",
          "model_name": "DescriptionStyleModel",
          "model_module_version": "1.5.0",
          "state": {
            "_view_name": "StyleView",
            "_model_name": "DescriptionStyleModel",
            "description_width": "",
            "_view_module": "@jupyter-widgets/base",
            "_model_module_version": "1.5.0",
            "_view_count": null,
            "_view_module_version": "1.2.0",
            "_model_module": "@jupyter-widgets/controls"
          }
        },
        "116aed6cc458448189c97ba08b43b543": {
          "model_module": "@jupyter-widgets/base",
          "model_name": "LayoutModel",
          "model_module_version": "1.2.0",
          "state": {
            "_view_name": "LayoutView",
            "grid_template_rows": null,
            "right": null,
            "justify_content": null,
            "_view_module": "@jupyter-widgets/base",
            "overflow": null,
            "_model_module_version": "1.2.0",
            "_view_count": null,
            "flex_flow": null,
            "width": null,
            "min_width": null,
            "border": null,
            "align_items": null,
            "bottom": null,
            "_model_module": "@jupyter-widgets/base",
            "top": null,
            "grid_column": null,
            "overflow_y": null,
            "overflow_x": null,
            "grid_auto_flow": null,
            "grid_area": null,
            "grid_template_columns": null,
            "flex": null,
            "_model_name": "LayoutModel",
            "justify_items": null,
            "grid_row": null,
            "max_height": null,
            "align_content": null,
            "visibility": null,
            "align_self": null,
            "height": null,
            "min_height": null,
            "padding": null,
            "grid_auto_rows": null,
            "grid_gap": null,
            "max_width": null,
            "order": null,
            "_view_module_version": "1.2.0",
            "grid_template_areas": null,
            "object_position": null,
            "object_fit": null,
            "grid_auto_columns": null,
            "margin": null,
            "display": null,
            "left": null
          }
        },
        "14f0e054a5aa4908ba2dbe0ba35a3bdc": {
          "model_module": "@jupyter-widgets/controls",
          "model_name": "HBoxModel",
          "model_module_version": "1.5.0",
          "state": {
            "_view_name": "HBoxView",
            "_dom_classes": [],
            "_model_name": "HBoxModel",
            "_view_module": "@jupyter-widgets/controls",
            "_model_module_version": "1.5.0",
            "_view_count": null,
            "_view_module_version": "1.5.0",
            "box_style": "",
            "layout": "IPY_MODEL_f78ac79447524cedaf283c05be97f395",
            "_model_module": "@jupyter-widgets/controls",
            "children": [
              "IPY_MODEL_899e2f655a1b42c5aaf314243f6d0825",
              "IPY_MODEL_9c1fd5c6e5574c3981df51697680a09b",
              "IPY_MODEL_d4490a618d714339af8d561d1b00ebf9"
            ]
          }
        },
        "f78ac79447524cedaf283c05be97f395": {
          "model_module": "@jupyter-widgets/base",
          "model_name": "LayoutModel",
          "model_module_version": "1.2.0",
          "state": {
            "_view_name": "LayoutView",
            "grid_template_rows": null,
            "right": null,
            "justify_content": null,
            "_view_module": "@jupyter-widgets/base",
            "overflow": null,
            "_model_module_version": "1.2.0",
            "_view_count": null,
            "flex_flow": null,
            "width": null,
            "min_width": null,
            "border": null,
            "align_items": null,
            "bottom": null,
            "_model_module": "@jupyter-widgets/base",
            "top": null,
            "grid_column": null,
            "overflow_y": null,
            "overflow_x": null,
            "grid_auto_flow": null,
            "grid_area": null,
            "grid_template_columns": null,
            "flex": null,
            "_model_name": "LayoutModel",
            "justify_items": null,
            "grid_row": null,
            "max_height": null,
            "align_content": null,
            "visibility": null,
            "align_self": null,
            "height": null,
            "min_height": null,
            "padding": null,
            "grid_auto_rows": null,
            "grid_gap": null,
            "max_width": null,
            "order": null,
            "_view_module_version": "1.2.0",
            "grid_template_areas": null,
            "object_position": null,
            "object_fit": null,
            "grid_auto_columns": null,
            "margin": null,
            "display": null,
            "left": null
          }
        },
        "899e2f655a1b42c5aaf314243f6d0825": {
          "model_module": "@jupyter-widgets/controls",
          "model_name": "HTMLModel",
          "model_module_version": "1.5.0",
          "state": {
            "_view_name": "HTMLView",
            "style": "IPY_MODEL_e4913c7c7be04a03b6ce40caf7ff8e49",
            "_dom_classes": [],
            "description": "",
            "_model_name": "HTMLModel",
            "placeholder": "​",
            "_view_module": "@jupyter-widgets/controls",
            "_model_module_version": "1.5.0",
            "value": "",
            "_view_count": null,
            "_view_module_version": "1.5.0",
            "description_tooltip": null,
            "_model_module": "@jupyter-widgets/controls",
            "layout": "IPY_MODEL_790d06d441f34790a3617515def0837d"
          }
        },
        "9c1fd5c6e5574c3981df51697680a09b": {
          "model_module": "@jupyter-widgets/controls",
          "model_name": "FloatProgressModel",
          "model_module_version": "1.5.0",
          "state": {
            "_view_name": "ProgressView",
            "style": "IPY_MODEL_ec3d7a76d053422e91850c16cec2eaf6",
            "_dom_classes": [],
            "description": "",
            "_model_name": "FloatProgressModel",
            "bar_style": "success",
            "max": 1648877,
            "_view_module": "@jupyter-widgets/controls",
            "_model_module_version": "1.5.0",
            "value": 1648877,
            "_view_count": null,
            "_view_module_version": "1.5.0",
            "orientation": "horizontal",
            "min": 0,
            "description_tooltip": null,
            "_model_module": "@jupyter-widgets/controls",
            "layout": "IPY_MODEL_d7618921b3fc4f5c83b3991804474446"
          }
        },
        "d4490a618d714339af8d561d1b00ebf9": {
          "model_module": "@jupyter-widgets/controls",
          "model_name": "HTMLModel",
          "model_module_version": "1.5.0",
          "state": {
            "_view_name": "HTMLView",
            "style": "IPY_MODEL_ea480e66929348a68dd59ea146669fd1",
            "_dom_classes": [],
            "description": "",
            "_model_name": "HTMLModel",
            "placeholder": "​",
            "_view_module": "@jupyter-widgets/controls",
            "_model_module_version": "1.5.0",
            "value": " 1649664/? [00:00&lt;00:00, 18404750.45it/s]",
            "_view_count": null,
            "_view_module_version": "1.5.0",
            "description_tooltip": null,
            "_model_module": "@jupyter-widgets/controls",
            "layout": "IPY_MODEL_5f6b2343064e48a08c897d25e71f74cf"
          }
        },
        "e4913c7c7be04a03b6ce40caf7ff8e49": {
          "model_module": "@jupyter-widgets/controls",
          "model_name": "DescriptionStyleModel",
          "model_module_version": "1.5.0",
          "state": {
            "_view_name": "StyleView",
            "_model_name": "DescriptionStyleModel",
            "description_width": "",
            "_view_module": "@jupyter-widgets/base",
            "_model_module_version": "1.5.0",
            "_view_count": null,
            "_view_module_version": "1.2.0",
            "_model_module": "@jupyter-widgets/controls"
          }
        },
        "790d06d441f34790a3617515def0837d": {
          "model_module": "@jupyter-widgets/base",
          "model_name": "LayoutModel",
          "model_module_version": "1.2.0",
          "state": {
            "_view_name": "LayoutView",
            "grid_template_rows": null,
            "right": null,
            "justify_content": null,
            "_view_module": "@jupyter-widgets/base",
            "overflow": null,
            "_model_module_version": "1.2.0",
            "_view_count": null,
            "flex_flow": null,
            "width": null,
            "min_width": null,
            "border": null,
            "align_items": null,
            "bottom": null,
            "_model_module": "@jupyter-widgets/base",
            "top": null,
            "grid_column": null,
            "overflow_y": null,
            "overflow_x": null,
            "grid_auto_flow": null,
            "grid_area": null,
            "grid_template_columns": null,
            "flex": null,
            "_model_name": "LayoutModel",
            "justify_items": null,
            "grid_row": null,
            "max_height": null,
            "align_content": null,
            "visibility": null,
            "align_self": null,
            "height": null,
            "min_height": null,
            "padding": null,
            "grid_auto_rows": null,
            "grid_gap": null,
            "max_width": null,
            "order": null,
            "_view_module_version": "1.2.0",
            "grid_template_areas": null,
            "object_position": null,
            "object_fit": null,
            "grid_auto_columns": null,
            "margin": null,
            "display": null,
            "left": null
          }
        },
        "ec3d7a76d053422e91850c16cec2eaf6": {
          "model_module": "@jupyter-widgets/controls",
          "model_name": "ProgressStyleModel",
          "model_module_version": "1.5.0",
          "state": {
            "_view_name": "StyleView",
            "_model_name": "ProgressStyleModel",
            "description_width": "",
            "_view_module": "@jupyter-widgets/base",
            "_model_module_version": "1.5.0",
            "_view_count": null,
            "_view_module_version": "1.2.0",
            "bar_color": null,
            "_model_module": "@jupyter-widgets/controls"
          }
        },
        "d7618921b3fc4f5c83b3991804474446": {
          "model_module": "@jupyter-widgets/base",
          "model_name": "LayoutModel",
          "model_module_version": "1.2.0",
          "state": {
            "_view_name": "LayoutView",
            "grid_template_rows": null,
            "right": null,
            "justify_content": null,
            "_view_module": "@jupyter-widgets/base",
            "overflow": null,
            "_model_module_version": "1.2.0",
            "_view_count": null,
            "flex_flow": null,
            "width": null,
            "min_width": null,
            "border": null,
            "align_items": null,
            "bottom": null,
            "_model_module": "@jupyter-widgets/base",
            "top": null,
            "grid_column": null,
            "overflow_y": null,
            "overflow_x": null,
            "grid_auto_flow": null,
            "grid_area": null,
            "grid_template_columns": null,
            "flex": null,
            "_model_name": "LayoutModel",
            "justify_items": null,
            "grid_row": null,
            "max_height": null,
            "align_content": null,
            "visibility": null,
            "align_self": null,
            "height": null,
            "min_height": null,
            "padding": null,
            "grid_auto_rows": null,
            "grid_gap": null,
            "max_width": null,
            "order": null,
            "_view_module_version": "1.2.0",
            "grid_template_areas": null,
            "object_position": null,
            "object_fit": null,
            "grid_auto_columns": null,
            "margin": null,
            "display": null,
            "left": null
          }
        },
        "ea480e66929348a68dd59ea146669fd1": {
          "model_module": "@jupyter-widgets/controls",
          "model_name": "DescriptionStyleModel",
          "model_module_version": "1.5.0",
          "state": {
            "_view_name": "StyleView",
            "_model_name": "DescriptionStyleModel",
            "description_width": "",
            "_view_module": "@jupyter-widgets/base",
            "_model_module_version": "1.5.0",
            "_view_count": null,
            "_view_module_version": "1.2.0",
            "_model_module": "@jupyter-widgets/controls"
          }
        },
        "5f6b2343064e48a08c897d25e71f74cf": {
          "model_module": "@jupyter-widgets/base",
          "model_name": "LayoutModel",
          "model_module_version": "1.2.0",
          "state": {
            "_view_name": "LayoutView",
            "grid_template_rows": null,
            "right": null,
            "justify_content": null,
            "_view_module": "@jupyter-widgets/base",
            "overflow": null,
            "_model_module_version": "1.2.0",
            "_view_count": null,
            "flex_flow": null,
            "width": null,
            "min_width": null,
            "border": null,
            "align_items": null,
            "bottom": null,
            "_model_module": "@jupyter-widgets/base",
            "top": null,
            "grid_column": null,
            "overflow_y": null,
            "overflow_x": null,
            "grid_auto_flow": null,
            "grid_area": null,
            "grid_template_columns": null,
            "flex": null,
            "_model_name": "LayoutModel",
            "justify_items": null,
            "grid_row": null,
            "max_height": null,
            "align_content": null,
            "visibility": null,
            "align_self": null,
            "height": null,
            "min_height": null,
            "padding": null,
            "grid_auto_rows": null,
            "grid_gap": null,
            "max_width": null,
            "order": null,
            "_view_module_version": "1.2.0",
            "grid_template_areas": null,
            "object_position": null,
            "object_fit": null,
            "grid_auto_columns": null,
            "margin": null,
            "display": null,
            "left": null
          }
        },
        "dbefc6ea3e9148818dee4756415f6468": {
          "model_module": "@jupyter-widgets/controls",
          "model_name": "HBoxModel",
          "model_module_version": "1.5.0",
          "state": {
            "_view_name": "HBoxView",
            "_dom_classes": [],
            "_model_name": "HBoxModel",
            "_view_module": "@jupyter-widgets/controls",
            "_model_module_version": "1.5.0",
            "_view_count": null,
            "_view_module_version": "1.5.0",
            "box_style": "",
            "layout": "IPY_MODEL_f0080bd98f724cf9afd8967ebcbe2803",
            "_model_module": "@jupyter-widgets/controls",
            "children": [
              "IPY_MODEL_22c163355f984f51a1224e304450b96f",
              "IPY_MODEL_41a994ffa2724a9abe8e79258d1be4c2",
              "IPY_MODEL_4ec6f5a8f57f45d49333d2ce35f9e4c2"
            ]
          }
        },
        "f0080bd98f724cf9afd8967ebcbe2803": {
          "model_module": "@jupyter-widgets/base",
          "model_name": "LayoutModel",
          "model_module_version": "1.2.0",
          "state": {
            "_view_name": "LayoutView",
            "grid_template_rows": null,
            "right": null,
            "justify_content": null,
            "_view_module": "@jupyter-widgets/base",
            "overflow": null,
            "_model_module_version": "1.2.0",
            "_view_count": null,
            "flex_flow": null,
            "width": null,
            "min_width": null,
            "border": null,
            "align_items": null,
            "bottom": null,
            "_model_module": "@jupyter-widgets/base",
            "top": null,
            "grid_column": null,
            "overflow_y": null,
            "overflow_x": null,
            "grid_auto_flow": null,
            "grid_area": null,
            "grid_template_columns": null,
            "flex": null,
            "_model_name": "LayoutModel",
            "justify_items": null,
            "grid_row": null,
            "max_height": null,
            "align_content": null,
            "visibility": null,
            "align_self": null,
            "height": null,
            "min_height": null,
            "padding": null,
            "grid_auto_rows": null,
            "grid_gap": null,
            "max_width": null,
            "order": null,
            "_view_module_version": "1.2.0",
            "grid_template_areas": null,
            "object_position": null,
            "object_fit": null,
            "grid_auto_columns": null,
            "margin": null,
            "display": null,
            "left": null
          }
        },
        "22c163355f984f51a1224e304450b96f": {
          "model_module": "@jupyter-widgets/controls",
          "model_name": "HTMLModel",
          "model_module_version": "1.5.0",
          "state": {
            "_view_name": "HTMLView",
            "style": "IPY_MODEL_803d69656a2b40b1bc8a55c009e67c57",
            "_dom_classes": [],
            "description": "",
            "_model_name": "HTMLModel",
            "placeholder": "​",
            "_view_module": "@jupyter-widgets/controls",
            "_model_module_version": "1.5.0",
            "value": "",
            "_view_count": null,
            "_view_module_version": "1.5.0",
            "description_tooltip": null,
            "_model_module": "@jupyter-widgets/controls",
            "layout": "IPY_MODEL_6bbd14b52e0047afad84dd1d27fabfac"
          }
        },
        "41a994ffa2724a9abe8e79258d1be4c2": {
          "model_module": "@jupyter-widgets/controls",
          "model_name": "FloatProgressModel",
          "model_module_version": "1.5.0",
          "state": {
            "_view_name": "ProgressView",
            "style": "IPY_MODEL_cae615bfca9f41e79221f86b076c5f05",
            "_dom_classes": [],
            "description": "",
            "_model_name": "FloatProgressModel",
            "bar_style": "success",
            "max": 4542,
            "_view_module": "@jupyter-widgets/controls",
            "_model_module_version": "1.5.0",
            "value": 4542,
            "_view_count": null,
            "_view_module_version": "1.5.0",
            "orientation": "horizontal",
            "min": 0,
            "description_tooltip": null,
            "_model_module": "@jupyter-widgets/controls",
            "layout": "IPY_MODEL_1ac6ea90b5df49d492126efbe9a53d4a"
          }
        },
        "4ec6f5a8f57f45d49333d2ce35f9e4c2": {
          "model_module": "@jupyter-widgets/controls",
          "model_name": "HTMLModel",
          "model_module_version": "1.5.0",
          "state": {
            "_view_name": "HTMLView",
            "style": "IPY_MODEL_76c3a0ad65be4a5cbcf60a47ea4449a5",
            "_dom_classes": [],
            "description": "",
            "_model_name": "HTMLModel",
            "placeholder": "​",
            "_view_module": "@jupyter-widgets/controls",
            "_model_module_version": "1.5.0",
            "value": " 5120/? [00:00&lt;00:00, 162677.06it/s]",
            "_view_count": null,
            "_view_module_version": "1.5.0",
            "description_tooltip": null,
            "_model_module": "@jupyter-widgets/controls",
            "layout": "IPY_MODEL_81d65f99205b4af8998be9e0f3c16511"
          }
        },
        "803d69656a2b40b1bc8a55c009e67c57": {
          "model_module": "@jupyter-widgets/controls",
          "model_name": "DescriptionStyleModel",
          "model_module_version": "1.5.0",
          "state": {
            "_view_name": "StyleView",
            "_model_name": "DescriptionStyleModel",
            "description_width": "",
            "_view_module": "@jupyter-widgets/base",
            "_model_module_version": "1.5.0",
            "_view_count": null,
            "_view_module_version": "1.2.0",
            "_model_module": "@jupyter-widgets/controls"
          }
        },
        "6bbd14b52e0047afad84dd1d27fabfac": {
          "model_module": "@jupyter-widgets/base",
          "model_name": "LayoutModel",
          "model_module_version": "1.2.0",
          "state": {
            "_view_name": "LayoutView",
            "grid_template_rows": null,
            "right": null,
            "justify_content": null,
            "_view_module": "@jupyter-widgets/base",
            "overflow": null,
            "_model_module_version": "1.2.0",
            "_view_count": null,
            "flex_flow": null,
            "width": null,
            "min_width": null,
            "border": null,
            "align_items": null,
            "bottom": null,
            "_model_module": "@jupyter-widgets/base",
            "top": null,
            "grid_column": null,
            "overflow_y": null,
            "overflow_x": null,
            "grid_auto_flow": null,
            "grid_area": null,
            "grid_template_columns": null,
            "flex": null,
            "_model_name": "LayoutModel",
            "justify_items": null,
            "grid_row": null,
            "max_height": null,
            "align_content": null,
            "visibility": null,
            "align_self": null,
            "height": null,
            "min_height": null,
            "padding": null,
            "grid_auto_rows": null,
            "grid_gap": null,
            "max_width": null,
            "order": null,
            "_view_module_version": "1.2.0",
            "grid_template_areas": null,
            "object_position": null,
            "object_fit": null,
            "grid_auto_columns": null,
            "margin": null,
            "display": null,
            "left": null
          }
        },
        "cae615bfca9f41e79221f86b076c5f05": {
          "model_module": "@jupyter-widgets/controls",
          "model_name": "ProgressStyleModel",
          "model_module_version": "1.5.0",
          "state": {
            "_view_name": "StyleView",
            "_model_name": "ProgressStyleModel",
            "description_width": "",
            "_view_module": "@jupyter-widgets/base",
            "_model_module_version": "1.5.0",
            "_view_count": null,
            "_view_module_version": "1.2.0",
            "bar_color": null,
            "_model_module": "@jupyter-widgets/controls"
          }
        },
        "1ac6ea90b5df49d492126efbe9a53d4a": {
          "model_module": "@jupyter-widgets/base",
          "model_name": "LayoutModel",
          "model_module_version": "1.2.0",
          "state": {
            "_view_name": "LayoutView",
            "grid_template_rows": null,
            "right": null,
            "justify_content": null,
            "_view_module": "@jupyter-widgets/base",
            "overflow": null,
            "_model_module_version": "1.2.0",
            "_view_count": null,
            "flex_flow": null,
            "width": null,
            "min_width": null,
            "border": null,
            "align_items": null,
            "bottom": null,
            "_model_module": "@jupyter-widgets/base",
            "top": null,
            "grid_column": null,
            "overflow_y": null,
            "overflow_x": null,
            "grid_auto_flow": null,
            "grid_area": null,
            "grid_template_columns": null,
            "flex": null,
            "_model_name": "LayoutModel",
            "justify_items": null,
            "grid_row": null,
            "max_height": null,
            "align_content": null,
            "visibility": null,
            "align_self": null,
            "height": null,
            "min_height": null,
            "padding": null,
            "grid_auto_rows": null,
            "grid_gap": null,
            "max_width": null,
            "order": null,
            "_view_module_version": "1.2.0",
            "grid_template_areas": null,
            "object_position": null,
            "object_fit": null,
            "grid_auto_columns": null,
            "margin": null,
            "display": null,
            "left": null
          }
        },
        "76c3a0ad65be4a5cbcf60a47ea4449a5": {
          "model_module": "@jupyter-widgets/controls",
          "model_name": "DescriptionStyleModel",
          "model_module_version": "1.5.0",
          "state": {
            "_view_name": "StyleView",
            "_model_name": "DescriptionStyleModel",
            "description_width": "",
            "_view_module": "@jupyter-widgets/base",
            "_model_module_version": "1.5.0",
            "_view_count": null,
            "_view_module_version": "1.2.0",
            "_model_module": "@jupyter-widgets/controls"
          }
        },
        "81d65f99205b4af8998be9e0f3c16511": {
          "model_module": "@jupyter-widgets/base",
          "model_name": "LayoutModel",
          "model_module_version": "1.2.0",
          "state": {
            "_view_name": "LayoutView",
            "grid_template_rows": null,
            "right": null,
            "justify_content": null,
            "_view_module": "@jupyter-widgets/base",
            "overflow": null,
            "_model_module_version": "1.2.0",
            "_view_count": null,
            "flex_flow": null,
            "width": null,
            "min_width": null,
            "border": null,
            "align_items": null,
            "bottom": null,
            "_model_module": "@jupyter-widgets/base",
            "top": null,
            "grid_column": null,
            "overflow_y": null,
            "overflow_x": null,
            "grid_auto_flow": null,
            "grid_area": null,
            "grid_template_columns": null,
            "flex": null,
            "_model_name": "LayoutModel",
            "justify_items": null,
            "grid_row": null,
            "max_height": null,
            "align_content": null,
            "visibility": null,
            "align_self": null,
            "height": null,
            "min_height": null,
            "padding": null,
            "grid_auto_rows": null,
            "grid_gap": null,
            "max_width": null,
            "order": null,
            "_view_module_version": "1.2.0",
            "grid_template_areas": null,
            "object_position": null,
            "object_fit": null,
            "grid_auto_columns": null,
            "margin": null,
            "display": null,
            "left": null
          }
        }
      }
    }
  },
  "cells": [
    {
      "cell_type": "code",
      "execution_count": null,
      "metadata": {
        "id": "HMHKdegM8xzW"
      },
      "outputs": [],
      "source": [
        "import io\n",
        "import os\n",
        "import requests\n",
        "import torchvision\n",
        "from PIL import Image\n",
        "import torch\n",
        "import torch.nn as nn\n",
        "from torchvision import models, transforms\n",
        "from torch.nn import functional as F\n",
        "import torch.optim as optim\n",
        "import numpy as np\n",
        "import cv2\n",
        "import pdb\n",
        "from matplotlib.pyplot import imshow\n",
        "import matplotlib.pyplot as plt"
      ]
    },
    {
      "cell_type": "code",
      "source": [
        "# Device configuration\n",
        "device = torch.device('cuda' if torch.cuda.is_available() else 'cpu')\n",
        "print(device)\n",
        "\n",
        "# Create a directory if not exists\n",
        "sample_dir = 'samples'\n",
        "if not os.path.exists(sample_dir):\n",
        "    os.makedirs(sample_dir)"
      ],
      "metadata": {
        "colab": {
          "base_uri": "https://localhost:8080/"
        },
        "id": "buXhJaNk9GPx",
        "outputId": "0d8498a2-1174-40fa-bba4-b98f3a1afb98"
      },
      "execution_count": null,
      "outputs": [
        {
          "output_type": "stream",
          "name": "stdout",
          "text": [
            "cuda\n"
          ]
        }
      ]
    },
    {
      "cell_type": "code",
      "source": [
        "root_dir = './data/MNIST/'\n",
        "torchvision.datasets.MNIST(root = root_dir, download = True)"
      ],
      "metadata": {
        "colab": {
          "base_uri": "https://localhost:8080/",
          "height": 492,
          "referenced_widgets": [
            "bd4fc2bb6b084143a00fd6f7450615f7",
            "05f951d7633b487aacc7aa74c4956067",
            "bf344e78786c44c29c1d87237466d90d",
            "9294380269124530973ab1381c32be46",
            "f076a5dcbf00433587a87d911af1ef84",
            "c9f3876386de4360a960029f25ff2fcb",
            "8fd90bfb91fa44d6ba8f668ef2b9e108",
            "e9d7c11cb54c426ba67742becf6bf66d",
            "92073633b92f4636b8391fd3ac31a203",
            "6fc61e00024d4b13ab57891136f43951",
            "78ff5ad290084759bfa448777800c18e",
            "821ee541fb314c4f8475458d8bda8fdd",
            "b64b57d6b746423b92a12453621b86e1",
            "17f0fbe08581465e885f80d6d4f2f14b",
            "ea959a0d6ddc49b5b845d864613e0fa5",
            "6077406655e74843916774201293f6ff",
            "4f8e6584356c41a2bcb780da0ccf111b",
            "8881b6da66334c64860af09c83bbbee8",
            "d7aa9e6a19d745e6bfaa76bfb6036765",
            "35787d7cd2d34abaab801e04e11ff689",
            "498a8f9f8ca644d8ba4e91e2217cf79c",
            "116aed6cc458448189c97ba08b43b543",
            "14f0e054a5aa4908ba2dbe0ba35a3bdc",
            "f78ac79447524cedaf283c05be97f395",
            "899e2f655a1b42c5aaf314243f6d0825",
            "9c1fd5c6e5574c3981df51697680a09b",
            "d4490a618d714339af8d561d1b00ebf9",
            "e4913c7c7be04a03b6ce40caf7ff8e49",
            "790d06d441f34790a3617515def0837d",
            "ec3d7a76d053422e91850c16cec2eaf6",
            "d7618921b3fc4f5c83b3991804474446",
            "ea480e66929348a68dd59ea146669fd1",
            "5f6b2343064e48a08c897d25e71f74cf",
            "dbefc6ea3e9148818dee4756415f6468",
            "f0080bd98f724cf9afd8967ebcbe2803",
            "22c163355f984f51a1224e304450b96f",
            "41a994ffa2724a9abe8e79258d1be4c2",
            "4ec6f5a8f57f45d49333d2ce35f9e4c2",
            "803d69656a2b40b1bc8a55c009e67c57",
            "6bbd14b52e0047afad84dd1d27fabfac",
            "cae615bfca9f41e79221f86b076c5f05",
            "1ac6ea90b5df49d492126efbe9a53d4a",
            "76c3a0ad65be4a5cbcf60a47ea4449a5",
            "81d65f99205b4af8998be9e0f3c16511"
          ]
        },
        "id": "ra9bfBwTAqg8",
        "outputId": "a673cf7d-58d2-4906-9732-73ff566b6dd6"
      },
      "execution_count": null,
      "outputs": [
        {
          "output_type": "stream",
          "name": "stdout",
          "text": [
            "Downloading http://yann.lecun.com/exdb/mnist/train-images-idx3-ubyte.gz\n",
            "Downloading http://yann.lecun.com/exdb/mnist/train-images-idx3-ubyte.gz to ./data/MNIST/MNIST/raw/train-images-idx3-ubyte.gz\n"
          ]
        },
        {
          "output_type": "display_data",
          "data": {
            "application/vnd.jupyter.widget-view+json": {
              "model_id": "bd4fc2bb6b084143a00fd6f7450615f7",
              "version_minor": 0,
              "version_major": 2
            },
            "text/plain": [
              "  0%|          | 0/9912422 [00:00<?, ?it/s]"
            ]
          },
          "metadata": {}
        },
        {
          "output_type": "stream",
          "name": "stdout",
          "text": [
            "Extracting ./data/MNIST/MNIST/raw/train-images-idx3-ubyte.gz to ./data/MNIST/MNIST/raw\n",
            "\n",
            "Downloading http://yann.lecun.com/exdb/mnist/train-labels-idx1-ubyte.gz\n",
            "Downloading http://yann.lecun.com/exdb/mnist/train-labels-idx1-ubyte.gz to ./data/MNIST/MNIST/raw/train-labels-idx1-ubyte.gz\n"
          ]
        },
        {
          "output_type": "display_data",
          "data": {
            "application/vnd.jupyter.widget-view+json": {
              "model_id": "821ee541fb314c4f8475458d8bda8fdd",
              "version_minor": 0,
              "version_major": 2
            },
            "text/plain": [
              "  0%|          | 0/28881 [00:00<?, ?it/s]"
            ]
          },
          "metadata": {}
        },
        {
          "output_type": "stream",
          "name": "stdout",
          "text": [
            "Extracting ./data/MNIST/MNIST/raw/train-labels-idx1-ubyte.gz to ./data/MNIST/MNIST/raw\n",
            "\n",
            "Downloading http://yann.lecun.com/exdb/mnist/t10k-images-idx3-ubyte.gz\n",
            "Downloading http://yann.lecun.com/exdb/mnist/t10k-images-idx3-ubyte.gz to ./data/MNIST/MNIST/raw/t10k-images-idx3-ubyte.gz\n"
          ]
        },
        {
          "output_type": "display_data",
          "data": {
            "application/vnd.jupyter.widget-view+json": {
              "model_id": "14f0e054a5aa4908ba2dbe0ba35a3bdc",
              "version_minor": 0,
              "version_major": 2
            },
            "text/plain": [
              "  0%|          | 0/1648877 [00:00<?, ?it/s]"
            ]
          },
          "metadata": {}
        },
        {
          "output_type": "stream",
          "name": "stdout",
          "text": [
            "Extracting ./data/MNIST/MNIST/raw/t10k-images-idx3-ubyte.gz to ./data/MNIST/MNIST/raw\n",
            "\n",
            "Downloading http://yann.lecun.com/exdb/mnist/t10k-labels-idx1-ubyte.gz\n",
            "Downloading http://yann.lecun.com/exdb/mnist/t10k-labels-idx1-ubyte.gz to ./data/MNIST/MNIST/raw/t10k-labels-idx1-ubyte.gz\n"
          ]
        },
        {
          "output_type": "display_data",
          "data": {
            "application/vnd.jupyter.widget-view+json": {
              "model_id": "dbefc6ea3e9148818dee4756415f6468",
              "version_minor": 0,
              "version_major": 2
            },
            "text/plain": [
              "  0%|          | 0/4542 [00:00<?, ?it/s]"
            ]
          },
          "metadata": {}
        },
        {
          "output_type": "stream",
          "name": "stdout",
          "text": [
            "Extracting ./data/MNIST/MNIST/raw/t10k-labels-idx1-ubyte.gz to ./data/MNIST/MNIST/raw\n",
            "\n"
          ]
        },
        {
          "output_type": "execute_result",
          "data": {
            "text/plain": [
              "Dataset MNIST\n",
              "    Number of datapoints: 60000\n",
              "    Root location: ./data/MNIST/\n",
              "    Split: Train"
            ]
          },
          "metadata": {},
          "execution_count": 3
        }
      ]
    },
    {
      "cell_type": "code",
      "source": [
        "train_set = torchvision.datasets.MNIST(root = root_dir, train = True, download = True)"
      ],
      "metadata": {
        "id": "1frmfmpaA0ch"
      },
      "execution_count": null,
      "outputs": []
    },
    {
      "cell_type": "code",
      "source": [
        "MNIST_dataset = torch.utils.data.DataLoader(train_set, batch_size = 1, shuffle = True, num_workers = 1)"
      ],
      "metadata": {
        "id": "f8kTZIgzA5or"
      },
      "execution_count": null,
      "outputs": []
    },
    {
      "cell_type": "code",
      "source": [
        "images = train_set.data.numpy().astype(np.float32) / 255\n",
        "labels = train_set.targets.numpy()"
      ],
      "metadata": {
        "id": "82hu4jrNA8VB"
      },
      "execution_count": null,
      "outputs": []
    },
    {
      "cell_type": "code",
      "source": [
        "# plot multiple images\n",
        "def plots(ims, interp=False, titles=None):\n",
        "    ims=np.array(ims)\n",
        "    mn,mx=ims.min(),ims.max()\n",
        "    f = plt.figure(figsize=(12,24))\n",
        "    for i in range(len(ims)):\n",
        "        sp=f.add_subplot(1, len(ims), i+1)\n",
        "        if not titles is None: sp.set_title(titles[i], fontsize=18)\n",
        "        plt.imshow(ims[i], interpolation=None if interp else 'none', vmin=mn,vmax=mx)\n",
        "\n",
        "# plot a single image\n",
        "def plot(im, interp=False):\n",
        "    f = plt.figure(figsize=(3,6), frameon=True)\n",
        "    plt.imshow(im, interpolation=None if interp else 'none')\n",
        "\n",
        "plt.gray()\n",
        "plt.close()"
      ],
      "metadata": {
        "id": "h_FFpl1FBG33"
      },
      "execution_count": null,
      "outputs": []
    },
    {
      "cell_type": "code",
      "source": [
        "plot(images[5000])\n",
        "plots(images[5000:5005], titles=labels[5000:5005])"
      ],
      "metadata": {
        "colab": {
          "base_uri": "https://localhost:8080/",
          "height": 382
        },
        "id": "3Rg0s2yCBIE8",
        "outputId": "8fe9c755-b8a5-4b79-8420-533e71620fa2"
      },
      "execution_count": null,
      "outputs": [
        {
          "output_type": "display_data",
          "data": {
            "image/png": "[encoded data removed]",
            "text/plain": [
              "<Figure size 216x432 with 1 Axes>"
            ]
          },
          "metadata": {
            "needs_background": "light"
          }
        },
        {
          "output_type": "display_data",
          "data": {
            "image/png": "[encoded data removed]",
            "text/plain": [
              "<Figure size 864x1728 with 5 Axes>"
            ]
          },
          "metadata": {
            "needs_background": "light"
          }
        }
      ]
    },
    {
      "cell_type": "code",
      "source": [
        "# Simple CNN Network, deterministic\n",
        "class CNN_MNIST(nn.Module):\n",
        "    def __init__(self, dim1 = 20, dim2 = 20):\n",
        "        super(CNN_MNIST, self).__init__()\n",
        "        self.cn1 = nn.Conv2d(in_channels= 1, out_channels = 32 , kernel_size=(3,3))\n",
        "        self.cn2 = nn.Conv2d(in_channels= 32, out_channels = 8 , kernel_size=(3,3))\n",
        "        self.mp1 = nn.MaxPool2d((3,3))\n",
        "\n",
        "        self.fc1 = nn.Linear(512, dim1)\n",
        "        self.fc2 = nn.Linear(dim1, dim2)\n",
        "        self.fc3 = nn.Linear(dim2, 10)\n",
        "        self.ls = nn.LogSoftmax()\n",
        "        \n",
        "    def forward(self, x):\n",
        "        y = torch.relu(self.cn1(x))\n",
        "        y = torch.relu(self.cn2(y))\n",
        "        y = self.mp1(y)\n",
        "        y = torch.flatten(y , start_dim = 1)\n",
        "        y = torch.tanh(self.fc1(y))\n",
        "        y = torch.tanh(self.fc2(y))\n",
        "        y = self.fc3(y)\n",
        "        y = self.ls(y)\n",
        "        return y\n",
        "\n",
        "model = CNN_MNIST().to(device)\n",
        "model.train()\n",
        "optimizer = torch.optim.Adam(model.parameters())"
      ],
      "metadata": {
        "id": "-LbvOGTtCyiX"
      },
      "execution_count": null,
      "outputs": []
    },
    {
      "cell_type": "code",
      "source": [
        "batch_size = 128\n",
        "\n",
        "data_dir = 'data'\n",
        "# MNIST dataset\n",
        "dataset = torchvision.datasets.MNIST(root=data_dir,\n",
        "                                     train=True,\n",
        "                                     transform=transforms.ToTensor(),\n",
        "                                     download=True)"
      ],
      "metadata": {
        "id": "pIJznbjp9y-d"
      },
      "execution_count": null,
      "outputs": []
    },
    {
      "cell_type": "code",
      "source": [
        "mask = [True for i in range(len(dataset.targets))]"
      ],
      "metadata": {
        "id": "mZb9kUi3_obj"
      },
      "execution_count": null,
      "outputs": []
    },
    {
      "cell_type": "code",
      "source": [
        "dataset = torch.utils.data.TensorDataset(dataset.data[mask].float(), dataset.targets[mask].byte())\n",
        "train_loader = torch.utils.data.DataLoader(dataset, batch_size=128)"
      ],
      "metadata": {
        "id": "4t3rV17QBUvf"
      },
      "execution_count": null,
      "outputs": []
    },
    {
      "cell_type": "code",
      "source": [
        "test_loader = torch.utils.data.DataLoader(\n",
        "    torchvision.datasets.MNIST(data_dir, train=False, download=True, transform=transforms.ToTensor()),\n",
        "    batch_size=10, shuffle=False)"
      ],
      "metadata": {
        "id": "iEp9CVbdDeKd"
      },
      "execution_count": null,
      "outputs": []
    },
    {
      "cell_type": "code",
      "source": [
        "# num_epochs = 20\n",
        "num_epochs = 2\n",
        "# Start training\n",
        "loss = torch.nn.NLLLoss()\n",
        "for epoch in range(num_epochs):\n",
        "    correct = 0\n",
        "    total = 0\n",
        "    for i, (x, y) in enumerate(train_loader):\n",
        "        # Forward pass\n",
        "        x = x.unsqueeze(1).to(device)\n",
        "        y = y.to(device)\n",
        "\n",
        "        y_pred = model(x)\n",
        "\n",
        "        output = loss(y_pred, y)\n",
        "        correct += torch.sum(torch.argmax(y_pred, dim = 1) == y)\n",
        "        total += x.shape[0]\n",
        "        optimizer.zero_grad()\n",
        "        output.backward()\n",
        "        optimizer.step()\n",
        "        \n",
        "        if i == 0:\n",
        "            print (\"Epoch[{}/{}], loss: {:.4f}, accuracy: {:.4f}\" \n",
        "                   .format(epoch+1, num_epochs, output.item(), correct / total))"
      ],
      "metadata": {
        "colab": {
          "base_uri": "https://localhost:8080/"
        },
        "id": "4cLOnML5L2I9",
        "outputId": "976ad087-e9ad-4b54-efd3-26b9637604f4"
      },
      "execution_count": null,
      "outputs": [
        {
          "output_type": "stream",
          "name": "stderr",
          "text": [
            "/usr/local/lib/python3.7/dist-packages/ipykernel_launcher.py:22: UserWarning: Implicit dimension choice for log_softmax has been deprecated. Change the call to include dim=X as an argument.\n"
          ]
        },
        {
          "output_type": "stream",
          "name": "stdout",
          "text": [
            "Epoch[1/2], loss: 2.3734, accuracy: 0.1016\n",
            "Epoch[2/2], loss: 0.3064, accuracy: 0.9375\n"
          ]
        }
      ]
    },
    {
      "cell_type": "code",
      "source": [
        "# your implementation of the attack\n",
        "def fgsm_attack(image, epsilon, data_grad, device):\n",
        "    # Collect the element-wise sign of the data gradient\n",
        "    gradient_sign = (2 * (data_grad >= 0) - 1).type(torch.float).to(device) # renvoie 1 si le gradient est positif, -1 s'il est négatif\n",
        "    # Create the perturbed image by adjusting each pixel of the input image\n",
        "    perturbed_image = image + epsilon * gradient_sign\n",
        "    # Adding clipping to maintain [0,1] range\n",
        "    perturbed_image = torch.clip(perturbed_image, 0, 1).to(device)\n",
        "    # Return the perturbed image\n",
        "    return perturbed_image"
      ],
      "metadata": {
        "id": "z00scjAF9U4a"
      },
      "execution_count": null,
      "outputs": []
    },
    {
      "cell_type": "code",
      "source": [
        "tensor = torch.zeros(10, 10)\n",
        "tensor[0, 2] = 1\n",
        "torch.argsort(-tensor.reshape(1, -1)).squeeze(0)[:5]"
      ],
      "metadata": {
        "id": "n8elblEGU-on",
        "colab": {
          "base_uri": "https://localhost:8080/"
        },
        "outputId": "00d7949e-94a6-45a8-d699-2ec5a708b911"
      },
      "execution_count": null,
      "outputs": [
        {
          "output_type": "execute_result",
          "data": {
            "text/plain": [
              "tensor([ 2, 62, 74, 73, 72])"
            ]
          },
          "metadata": {},
          "execution_count": 357
        }
      ]
    },
    {
      "cell_type": "code",
      "source": [
        "# your implementation of the attack\n",
        "def fgsm_attack_pixelwise(image, epsilon, data_grad, device):\n",
        "    # Collect the element-wise sign of the data gradient\n",
        "    gradient_sign = (2 * (data_grad >= 0) - 1).type(torch.float).to(device) # renvoie 1 si le gradient est positif, -1 s'il est négatif\n",
        "    pixel_to_be_changed = torch.argmax(torch.abs(data_grad)).item()\n",
        "    tensor = torch.zeros(image.shape).to(device)\n",
        "    x = pixel_to_be_changed // 28\n",
        "    y = pixel_to_be_changed % 28\n",
        "    print(x, y)\n",
        "    tensor[x, y] = 1\n",
        "    # Create the perturbed image by adjusting each pixel of the input image\n",
        "    perturbed_image = image + epsilon * gradient_sign * tensor\n",
        "    # Adding clipping to maintain [0,1] range\n",
        "    perturbed_image = torch.clip(perturbed_image, 0, 1).to(device)\n",
        "    # Return the perturbed image\n",
        "    return perturbed_image"
      ],
      "metadata": {
        "id": "Rc5lJ2f8SmyO"
      },
      "execution_count": null,
      "outputs": []
    },
    {
      "cell_type": "code",
      "source": [
        "# your implementation of the attack\n",
        "def fgsm_attack_multipixelwise(image, epsilon, data_grad, device, number_pixels):\n",
        "    # Collect the element-wise sign of the data gradient\n",
        "    gradient_sign = (2 * (data_grad >= 0) - 1).type(torch.float).to(device) # renvoie 1 si le gradient est positif, -1 s'il est négatif\n",
        "    # pixel_to_be_changed = torch.argmax(torch.abs(data_grad)).item()\n",
        "    # pixel_to_be_changed = torch.argmax(data_grad).item()\n",
        "    pixels_to_be_changed = torch.argsort(-torch.abs(data_grad).reshape(1, -1)).squeeze(0)[:number_pixels]\n",
        "    tensor = torch.zeros(image.shape).to(device)\n",
        "    x = pixels_to_be_changed // 28\n",
        "    y = pixels_to_be_changed % 28\n",
        "    print(x, y)\n",
        "    for i in range (number_pixels):\n",
        "      tensor[x[i].item(), y[i].item()] = 1\n",
        "    # Create the perturbed image by adjusting each pixel of the input image\n",
        "    perturbed_image = image + epsilon * gradient_sign * tensor\n",
        "    # Adding clipping to maintain [0,1] range\n",
        "    perturbed_image = torch.clip(perturbed_image, 0, 1).to(device)\n",
        "    # Return the perturbed image\n",
        "    return perturbed_image"
      ],
      "metadata": {
        "id": "7cGtn3e6OqPn"
      },
      "execution_count": null,
      "outputs": []
    },
    {
      "cell_type": "code",
      "source": [
        "def adversarial(net, x_img, idx, device, number_pixels = 40):\n",
        "  criterion = nn.CrossEntropyLoss()\n",
        "  x_img.requires_grad = True\n",
        "  target = torch.tensor([idx]).to(device)\n",
        "  logit = net(x_img.unsqueeze(0).unsqueeze(0))\n",
        "  print(\"Original classes :\")\n",
        "  print(np.argmax(logit.cpu().detach().numpy()))\n",
        "  loss = criterion(logit, target)\n",
        "  loss.backward()\n",
        "  data_grad = x_img.grad # compute the loss to backpropagate\n",
        "  print(\"Shape of data_grad : \", data_grad.shape)\n",
        "  # your attack here\n",
        "  epsilon = 0.4\n",
        "  # x_att = fgsm_attack_multipixelwise(x_img, epsilon, data_grad, device, number_pixels)\n",
        "  x_att = fgsm_attack_multipixelwise(x_img, epsilon, data_grad, device, number_pixels)\n",
        "  # can you see the difference?\n",
        "  print(\"Modified image :\")\n",
        "  plot(x_att.cpu().detach().numpy())\n",
        "  return x_att"
      ],
      "metadata": {
        "id": "VCPEB9ijB-Bu"
      },
      "execution_count": null,
      "outputs": []
    },
    {
      "cell_type": "code",
      "source": [
        "example = 35\n",
        "target = 3"
      ],
      "metadata": {
        "id": "L3zRm7ExQgQB"
      },
      "execution_count": null,
      "outputs": []
    },
    {
      "cell_type": "code",
      "source": [
        "plot(images[example])"
      ],
      "metadata": {
        "colab": {
          "base_uri": "https://localhost:8080/",
          "height": 216
        },
        "id": "QhO42bKBRXHO",
        "outputId": "574e3183-2352-4081-948e-69e5d4c06a80"
      },
      "execution_count": null,
      "outputs": [
        {
          "output_type": "display_data",
          "data": {
            "image/png": "[encoded data removed]",
            "text/plain": [
              "<Figure size 216x432 with 1 Axes>"
            ]
          },
          "metadata": {
            "needs_background": "light"
          }
        }
      ]
    },
    {
      "cell_type": "code",
      "source": [
        "proba_min = 1\n",
        "k_min = -1\n",
        "for k in range (100):\n",
        "  proba, prediction, label = torch.max(model(torch.from_numpy(images[k]).to(device).unsqueeze(0).unsqueeze(0))).item(), torch.argmax(model(torch.from_numpy(images[k]).to(device).unsqueeze(0).unsqueeze(0))).item(), labels[k]\n",
        "  if (prediction == label and proba < proba_min):\n",
        "    k_min = k\n",
        "    proba_min = proba\n",
        "print(k_min, proba_min)"
      ],
      "metadata": {
        "colab": {
          "base_uri": "https://localhost:8080/"
        },
        "id": "NVDkquTVVbK1",
        "outputId": "99211ea9-6669-4db9-af8a-84bd26694792"
      },
      "execution_count": null,
      "outputs": [
        {
          "output_type": "stream",
          "name": "stdout",
          "text": [
            "35 -1.8501211404800415\n"
          ]
        },
        {
          "output_type": "stream",
          "name": "stderr",
          "text": [
            "/usr/local/lib/python3.7/dist-packages/ipykernel_launcher.py:22: UserWarning: Implicit dimension choice for log_softmax has been deprecated. Change the call to include dim=X as an argument.\n"
          ]
        }
      ]
    },
    {
      "cell_type": "code",
      "source": [
        "print(torch.argmax(model(torch.from_numpy(images[example]).to(device).unsqueeze(0).unsqueeze(0))))"
      ],
      "metadata": {
        "colab": {
          "base_uri": "https://localhost:8080/"
        },
        "id": "jFWT4-IiLBU9",
        "outputId": "5feb34d1-509f-4711-b4c1-e31e031e5188"
      },
      "execution_count": null,
      "outputs": [
        {
          "output_type": "stream",
          "name": "stdout",
          "text": [
            "tensor(5, device='cuda:0')\n"
          ]
        },
        {
          "output_type": "stream",
          "name": "stderr",
          "text": [
            "/usr/local/lib/python3.7/dist-packages/ipykernel_launcher.py:22: UserWarning: Implicit dimension choice for log_softmax has been deprecated. Change the call to include dim=X as an argument.\n"
          ]
        }
      ]
    },
    {
      "cell_type": "code",
      "source": [
        "image_attacked = adversarial(model, torch.from_numpy(images[example]).to(device), target, device)"
      ],
      "metadata": {
        "colab": {
          "base_uri": "https://localhost:8080/",
          "height": 444
        },
        "id": "F6o8MnxJ9uQe",
        "outputId": "906ffabb-e19e-41d9-df21-621c1ceb1f02"
      },
      "execution_count": null,
      "outputs": [
        {
          "output_type": "stream",
          "name": "stdout",
          "text": [
            "Original classes :\n",
            "5\n",
            "Shape of data_grad :  torch.Size([28, 28])\n",
            "tensor([17, 23, 17, 23, 17, 15, 23, 16, 17, 16, 21, 24, 18, 21, 10, 17, 16,  4,\n",
            "        24, 22, 18, 23, 15,  4,  5, 22, 10, 18, 18,  4, 10, 23, 21, 22, 10, 23,\n",
            "         5, 10, 19,  3], device='cuda:0') tensor([ 9,  6,  8,  4,  7, 10,  5,  9, 10,  7,  7,  6, 10,  8, 19, 11,  8, 22,\n",
            "         7,  4,  9,  7, 11, 21, 24,  3, 20, 11,  7, 23, 13,  8,  6,  2, 15,  9,\n",
            "        23, 18,  6, 21], device='cuda:0')\n",
            "Modified image :\n"
          ]
        },
        {
          "output_type": "stream",
          "name": "stderr",
          "text": [
            "/usr/local/lib/python3.7/dist-packages/ipykernel_launcher.py:22: UserWarning: Implicit dimension choice for log_softmax has been deprecated. Change the call to include dim=X as an argument.\n",
            "/usr/local/lib/python3.7/dist-packages/ipykernel_launcher.py:9: UserWarning: __floordiv__ is deprecated, and its behavior will change in a future version of pytorch. It currently rounds toward 0 (like the 'trunc' function NOT 'floor'). This results in incorrect rounding for negative values. To keep the current behavior, use torch.div(a, b, rounding_mode='trunc'), or for actual floor division, use torch.div(a, b, rounding_mode='floor').\n",
            "  if __name__ == '__main__':\n"
          ]
        },
        {
          "output_type": "display_data",
          "data": {
            "image/png": "[encoded data removed]",
            "text/plain": [
              "<Figure size 216x432 with 1 Axes>"
            ]
          },
          "metadata": {
            "needs_background": "light"
          }
        }
      ]
    },
    {
      "cell_type": "code",
      "source": [
        "print(torch.argmax(model(image_attacked.unsqueeze(0).unsqueeze(0))))"
      ],
      "metadata": {
        "colab": {
          "base_uri": "https://localhost:8080/"
        },
        "id": "CcqkdnsoNpwJ",
        "outputId": "b6007c13-e5fe-4d89-93b6-a1ee2a7138e3"
      },
      "execution_count": null,
      "outputs": [
        {
          "output_type": "stream",
          "name": "stdout",
          "text": [
            "tensor(8, device='cuda:0')\n"
          ]
        },
        {
          "output_type": "stream",
          "name": "stderr",
          "text": [
            "/usr/local/lib/python3.7/dist-packages/ipykernel_launcher.py:22: UserWarning: Implicit dimension choice for log_softmax has been deprecated. Change the call to include dim=X as an argument.\n"
          ]
        }
      ]
    },
    {
      "cell_type": "code",
      "source": [
        "image_attacked = adversarial(model, torch.from_numpy(images[example]).to(device), target, device)\n",
        "predicted = torch.argmax(model(image_attacked.unsqueeze(0).unsqueeze(0))).item()\n",
        "for _ in range (100):\n",
        "  image_attacked = adversarial(model, image_attacked.detach(), target, device)\n",
        "  predicted = torch.argmax(model(image_attacked.unsqueeze(0).unsqueeze(0))).item()\n",
        "print(predicted)"
      ],
      "metadata": {
        "colab": {
          "base_uri": "https://localhost:8080/",
          "height": 1000
        },
        "id": "v7C94JSNWUiH",
        "outputId": "517d74e7-e561-4aef-bd2e-404b6f10ae46"
      },
      "execution_count": null,
      "outputs": [
        {
          "output_type": "stream",
          "name": "stderr",
          "text": [
            "/usr/local/lib/python3.7/dist-packages/ipykernel_launcher.py:22: UserWarning: Implicit dimension choice for log_softmax has been deprecated. Change the call to include dim=X as an argument.\n"
          ]
        },
        {
          "output_type": "stream",
          "name": "stdout",
          "text": [
            "Original classes :\n",
            "4\n",
            "Shape of data_grad :  torch.Size([28, 28])\n",
            "Modified image :\n",
            "Original classes :\n",
            "4\n",
            "Shape of data_grad :  torch.Size([28, 28])\n",
            "Modified image :\n",
            "Original classes :\n",
            "4\n",
            "Shape of data_grad :  torch.Size([28, 28])\n",
            "Modified image :\n",
            "Original classes :\n",
            "4\n",
            "Shape of data_grad :  torch.Size([28, 28])\n",
            "Modified image :\n",
            "Original classes :\n",
            "4\n",
            "Shape of data_grad :  torch.Size([28, 28])\n",
            "Modified image :\n",
            "Original classes :\n",
            "7\n",
            "Shape of data_grad :  torch.Size([28, 28])\n",
            "Modified image :\n",
            "Original classes :\n",
            "7\n",
            "Shape of data_grad :  torch.Size([28, 28])\n",
            "Modified image :\n",
            "Original classes :\n",
            "7\n",
            "Shape of data_grad :  torch.Size([28, 28])\n",
            "Modified image :\n",
            "Original classes :\n",
            "7\n",
            "Shape of data_grad :  torch.Size([28, 28])\n",
            "Modified image :\n",
            "Original classes :\n",
            "7\n",
            "Shape of data_grad :  torch.Size([28, 28])\n",
            "Modified image :\n",
            "Original classes :\n",
            "7\n",
            "Shape of data_grad :  torch.Size([28, 28])\n",
            "Modified image :\n",
            "Original classes :\n",
            "7\n",
            "Shape of data_grad :  torch.Size([28, 28])\n",
            "Modified image :\n",
            "Original classes :\n",
            "7\n",
            "Shape of data_grad :  torch.Size([28, 28])\n",
            "Modified image :\n",
            "Original classes :\n",
            "7\n",
            "Shape of data_grad :  torch.Size([28, 28])\n",
            "Modified image :\n",
            "Original classes :\n",
            "7\n",
            "Shape of data_grad :  torch.Size([28, 28])\n",
            "Modified image :\n",
            "Original classes :\n",
            "7\n",
            "Shape of data_grad :  torch.Size([28, 28])\n",
            "Modified image :\n",
            "Original classes :\n",
            "7\n",
            "Shape of data_grad :  torch.Size([28, 28])\n",
            "Modified image :\n",
            "Original classes :\n",
            "7\n",
            "Shape of data_grad :  torch.Size([28, 28])\n",
            "Modified image :\n",
            "Original classes :\n",
            "7\n",
            "Shape of data_grad :  torch.Size([28, 28])\n",
            "Modified image :\n",
            "Original classes :\n",
            "7\n",
            "Shape of data_grad :  torch.Size([28, 28])\n",
            "Modified image :\n",
            "Original classes :\n",
            "7\n",
            "Shape of data_grad :  torch.Size([28, 28])\n",
            "Modified image :\n",
            "Original classes :\n",
            "7\n",
            "Shape of data_grad :  torch.Size([28, 28])\n",
            "Modified image :\n",
            "Original classes :\n",
            "7\n",
            "Shape of data_grad :  torch.Size([28, 28])\n",
            "Modified image :\n",
            "Original classes :\n",
            "7\n",
            "Shape of data_grad :  torch.Size([28, 28])\n",
            "Modified image :\n",
            "Original classes :\n",
            "7\n",
            "Shape of data_grad :  torch.Size([28, 28])\n",
            "Modified image :\n",
            "Original classes :\n",
            "7\n",
            "Shape of data_grad :  torch.Size([28, 28])\n",
            "Modified image :\n",
            "Original classes :\n",
            "7\n",
            "Shape of data_grad :  torch.Size([28, 28])\n",
            "Modified image :\n"
          ]
        },
        {
          "output_type": "stream",
          "name": "stderr",
          "text": [
            "/usr/local/lib/python3.7/dist-packages/ipykernel_launcher.py:13: RuntimeWarning: More than 20 figures have been opened. Figures created through the pyplot interface (`matplotlib.pyplot.figure`) are retained until explicitly closed and may consume too much memory. (To control this warning, see the rcParam `figure.max_open_warning`).\n",
            "  del sys.path[0]\n"
          ]
        },
        {
          "output_type": "stream",
          "name": "stdout",
          "text": [
            "Original classes :\n",
            "7\n",
            "Shape of data_grad :  torch.Size([28, 28])\n",
            "Modified image :\n",
            "Original classes :\n",
            "7\n",
            "Shape of data_grad :  torch.Size([28, 28])\n",
            "Modified image :\n",
            "Original classes :\n",
            "7\n",
            "Shape of data_grad :  torch.Size([28, 28])\n",
            "Modified image :\n",
            "Original classes :\n",
            "7\n",
            "Shape of data_grad :  torch.Size([28, 28])\n",
            "Modified image :\n",
            "Original classes :\n",
            "7\n",
            "Shape of data_grad :  torch.Size([28, 28])\n",
            "Modified image :\n",
            "Original classes :\n",
            "7\n",
            "Shape of data_grad :  torch.Size([28, 28])\n",
            "Modified image :\n",
            "Original classes :\n",
            "7\n",
            "Shape of data_grad :  torch.Size([28, 28])\n",
            "Modified image :\n",
            "Original classes :\n",
            "7\n",
            "Shape of data_grad :  torch.Size([28, 28])\n",
            "Modified image :\n",
            "Original classes :\n",
            "7\n",
            "Shape of data_grad :  torch.Size([28, 28])\n",
            "Modified image :\n",
            "Original classes :\n",
            "7\n",
            "Shape of data_grad :  torch.Size([28, 28])\n",
            "Modified image :\n",
            "Original classes :\n",
            "7\n",
            "Shape of data_grad :  torch.Size([28, 28])\n",
            "Modified image :\n",
            "Original classes :\n",
            "7\n",
            "Shape of data_grad :  torch.Size([28, 28])\n",
            "Modified image :\n",
            "Original classes :\n",
            "7\n",
            "Shape of data_grad :  torch.Size([28, 28])\n",
            "Modified image :\n",
            "Original classes :\n",
            "7\n",
            "Shape of data_grad :  torch.Size([28, 28])\n",
            "Modified image :\n",
            "Original classes :\n",
            "7\n",
            "Shape of data_grad :  torch.Size([28, 28])\n",
            "Modified image :\n",
            "Original classes :\n",
            "7\n",
            "Shape of data_grad :  torch.Size([28, 28])\n",
            "Modified image :\n",
            "Original classes :\n",
            "7\n",
            "Shape of data_grad :  torch.Size([28, 28])\n",
            "Modified image :\n",
            "Original classes :\n",
            "7\n",
            "Shape of data_grad :  torch.Size([28, 28])\n",
            "Modified image :\n",
            "Original classes :\n",
            "7\n",
            "Shape of data_grad :  torch.Size([28, 28])\n",
            "Modified image :\n",
            "Original classes :\n",
            "7\n",
            "Shape of data_grad :  torch.Size([28, 28])\n",
            "Modified image :\n",
            "Original classes :\n",
            "7\n",
            "Shape of data_grad :  torch.Size([28, 28])\n",
            "Modified image :\n",
            "Original classes :\n",
            "7\n",
            "Shape of data_grad :  torch.Size([28, 28])\n",
            "Modified image :\n",
            "Original classes :\n",
            "7\n",
            "Shape of data_grad :  torch.Size([28, 28])\n",
            "Modified image :\n",
            "Original classes :\n",
            "7\n",
            "Shape of data_grad :  torch.Size([28, 28])\n",
            "Modified image :\n",
            "Original classes :\n",
            "7\n",
            "Shape of data_grad :  torch.Size([28, 28])\n",
            "Modified image :\n",
            "Original classes :\n",
            "7\n",
            "Shape of data_grad :  torch.Size([28, 28])\n",
            "Modified image :\n",
            "Original classes :\n",
            "7\n",
            "Shape of data_grad :  torch.Size([28, 28])\n",
            "Modified image :\n",
            "Original classes :\n",
            "7\n",
            "Shape of data_grad :  torch.Size([28, 28])\n",
            "Modified image :\n",
            "Original classes :\n",
            "7\n",
            "Shape of data_grad :  torch.Size([28, 28])\n",
            "Modified image :\n",
            "Original classes :\n",
            "7\n",
            "Shape of data_grad :  torch.Size([28, 28])\n",
            "Modified image :\n",
            "Original classes :\n",
            "7\n",
            "Shape of data_grad :  torch.Size([28, 28])\n",
            "Modified image :\n",
            "Original classes :\n",
            "7\n",
            "Shape of data_grad :  torch.Size([28, 28])\n",
            "Modified image :\n",
            "Original classes :\n",
            "7\n",
            "Shape of data_grad :  torch.Size([28, 28])\n",
            "Modified image :\n",
            "Original classes :\n",
            "7\n",
            "Shape of data_grad :  torch.Size([28, 28])\n",
            "Modified image :\n",
            "Original classes :\n",
            "7\n",
            "Shape of data_grad :  torch.Size([28, 28])\n",
            "Modified image :\n",
            "Original classes :\n",
            "7\n",
            "Shape of data_grad :  torch.Size([28, 28])\n",
            "Modified image :\n",
            "Original classes :\n",
            "7\n",
            "Shape of data_grad :  torch.Size([28, 28])\n",
            "Modified image :\n",
            "Original classes :\n",
            "7\n",
            "Shape of data_grad :  torch.Size([28, 28])\n",
            "Modified image :\n",
            "Original classes :\n",
            "7\n",
            "Shape of data_grad :  torch.Size([28, 28])\n",
            "Modified image :\n",
            "Original classes :\n",
            "7\n",
            "Shape of data_grad :  torch.Size([28, 28])\n",
            "Modified image :\n",
            "Original classes :\n",
            "7\n",
            "Shape of data_grad :  torch.Size([28, 28])\n",
            "Modified image :\n",
            "Original classes :\n",
            "7\n",
            "Shape of data_grad :  torch.Size([28, 28])\n",
            "Modified image :\n",
            "Original classes :\n",
            "7\n",
            "Shape of data_grad :  torch.Size([28, 28])\n",
            "Modified image :\n",
            "Original classes :\n",
            "7\n",
            "Shape of data_grad :  torch.Size([28, 28])\n",
            "Modified image :\n",
            "Original classes :\n",
            "7\n",
            "Shape of data_grad :  torch.Size([28, 28])\n",
            "Modified image :\n",
            "Original classes :\n",
            "7\n",
            "Shape of data_grad :  torch.Size([28, 28])\n",
            "Modified image :\n",
            "Original classes :\n",
            "7\n",
            "Shape of data_grad :  torch.Size([28, 28])\n",
            "Modified image :\n",
            "Original classes :\n",
            "7\n",
            "Shape of data_grad :  torch.Size([28, 28])\n",
            "Modified image :\n",
            "Original classes :\n",
            "7\n",
            "Shape of data_grad :  torch.Size([28, 28])\n",
            "Modified image :\n",
            "Original classes :\n",
            "7\n",
            "Shape of data_grad :  torch.Size([28, 28])\n",
            "Modified image :\n",
            "Original classes :\n",
            "7\n",
            "Shape of data_grad :  torch.Size([28, 28])\n",
            "Modified image :\n",
            "Original classes :\n",
            "7\n",
            "Shape of data_grad :  torch.Size([28, 28])\n",
            "Modified image :\n",
            "Original classes :\n",
            "7\n",
            "Shape of data_grad :  torch.Size([28, 28])\n",
            "Modified image :\n",
            "Original classes :\n",
            "7\n",
            "Shape of data_grad :  torch.Size([28, 28])\n",
            "Modified image :\n",
            "Original classes :\n",
            "7\n",
            "Shape of data_grad :  torch.Size([28, 28])\n",
            "Modified image :\n",
            "Original classes :\n",
            "7\n",
            "Shape of data_grad :  torch.Size([28, 28])\n",
            "Modified image :\n",
            "Original classes :\n",
            "7\n",
            "Shape of data_grad :  torch.Size([28, 28])\n",
            "Modified image :\n",
            "Original classes :\n",
            "7\n",
            "Shape of data_grad :  torch.Size([28, 28])\n",
            "Modified image :\n",
            "Original classes :\n",
            "7\n",
            "Shape of data_grad :  torch.Size([28, 28])\n",
            "Modified image :\n",
            "Original classes :\n",
            "7\n",
            "Shape of data_grad :  torch.Size([28, 28])\n",
            "Modified image :\n",
            "Original classes :\n",
            "7\n",
            "Shape of data_grad :  torch.Size([28, 28])\n",
            "Modified image :\n",
            "Original classes :\n",
            "7\n",
            "Shape of data_grad :  torch.Size([28, 28])\n",
            "Modified image :\n",
            "Original classes :\n",
            "7\n",
            "Shape of data_grad :  torch.Size([28, 28])\n",
            "Modified image :\n",
            "Original classes :\n",
            "7\n",
            "Shape of data_grad :  torch.Size([28, 28])\n",
            "Modified image :\n",
            "Original classes :\n",
            "7\n",
            "Shape of data_grad :  torch.Size([28, 28])\n",
            "Modified image :\n",
            "Original classes :\n",
            "7\n",
            "Shape of data_grad :  torch.Size([28, 28])\n",
            "Modified image :\n",
            "Original classes :\n",
            "7\n",
            "Shape of data_grad :  torch.Size([28, 28])\n",
            "Modified image :\n",
            "Original classes :\n",
            "7\n",
            "Shape of data_grad :  torch.Size([28, 28])\n",
            "Modified image :\n",
            "Original classes :\n",
            "7\n",
            "Shape of data_grad :  torch.Size([28, 28])\n",
            "Modified image :\n",
            "Original classes :\n",
            "7\n",
            "Shape of data_grad :  torch.Size([28, 28])\n",
            "Modified image :\n",
            "Original classes :\n",
            "7\n",
            "Shape of data_grad :  torch.Size([28, 28])\n",
            "Modified image :\n",
            "Original classes :\n",
            "7\n",
            "Shape of data_grad :  torch.Size([28, 28])\n",
            "Modified image :\n",
            "Original classes :\n",
            "7\n",
            "Shape of data_grad :  torch.Size([28, 28])\n",
            "Modified image :\n",
            "Original classes :\n",
            "7\n",
            "Shape of data_grad :  torch.Size([28, 28])\n",
            "Modified image :\n",
            "7\n"
          ]
        },
        {
          "output_type": "display_data",
          "data": {
            "image/png": "[encoded data removed]",
            "text/plain": [
              "<Figure size 216x432 with 1 Axes>"
            ]
          },
          "metadata": {
            "needs_background": "light"
          }
        },
        {
          "output_type": "display_data",
          "data": {
            "image/png": "[encoded data removed]",
            "text/plain": [
              "<Figure size 216x432 with 1 Axes>"
            ]
          },
          "metadata": {
            "needs_background": "light"
          }
        },
        {
          "output_type": "display_data",
          "data": {
            "image/png": "[encoded data removed]",
            "text/plain": [
              "<Figure size 216x432 with 1 Axes>"
            ]
          },
          "metadata": {
            "needs_background": "light"
          }
        },
        {
          "output_type": "display_data",
          "data": {
            "image/png": "[encoded data removed]",
            "text/plain": [
              "<Figure size 216x432 with 1 Axes>"
            ]
          },
          "metadata": {
            "needs_background": "light"
          }
        },
        {
          "output_type": "display_data",
          "data": {
            "image/png": "[encoded data removed]",
            "text/plain": [
              "<Figure size 216x432 with 1 Axes>"
            ]
          },
          "metadata": {
            "needs_background": "light"
          }
        },
        {
          "output_type": "display_data",
          "data": {
            "image/png": "[encoded data removed]",
            "text/plain": [
              "<Figure size 216x432 with 1 Axes>"
            ]
          },
          "metadata": {
            "needs_background": "light"
          }
        },
        {
          "output_type": "display_data",
          "data": {
            "image/png": "[encoded data removed]",
            "text/plain": [
              "<Figure size 216x432 with 1 Axes>"
            ]
          },
          "metadata": {
            "needs_background": "light"
          }
        },
        {
          "output_type": "display_data",
          "data": {
            "image/png": "[encoded data removed]",
            "text/plain": [
              "<Figure size 216x432 with 1 Axes>"
            ]
          },
          "metadata": {
            "needs_background": "light"
          }
        },
        {
          "output_type": "display_data",
          "data": {
            "image/png": "[encoded data removed]",
            "text/plain": [
              "<Figure size 216x432 with 1 Axes>"
            ]
          },
          "metadata": {
            "needs_background": "light"
          }
        },
        {
          "output_type": "display_data",
          "data": {
            "image/png": "[encoded data removed]",
            "text/plain": [
              "<Figure size 216x432 with 1 Axes>"
            ]
          },
          "metadata": {
            "needs_background": "light"
          }
        },
        {
          "output_type": "display_data",
          "data": {
            "image/png": "[encoded data removed]",
            "text/plain": [
              "<Figure size 216x432 with 1 Axes>"
            ]
          },
          "metadata": {
            "needs_background": "light"
          }
        },
        {
          "output_type": "display_data",
          "data": {
            "image/png": "[encoded data removed]",
            "text/plain": [
              "<Figure size 216x432 with 1 Axes>"
            ]
          },
          "metadata": {
            "needs_background": "light"
          }
        },
        {
          "output_type": "display_data",
          "data": {
            "image/png": "[encoded data removed]",
            "text/plain": [
              "<Figure size 216x432 with 1 Axes>"
            ]
          },
          "metadata": {
            "needs_background": "light"
          }
        },
        {
          "output_type": "display_data",
          "data": {
            "image/png": "[encoded data removed]",
            "text/plain": [
              "<Figure size 216x432 with 1 Axes>"
            ]
          },
          "metadata": {
            "needs_background": "light"
          }
        },
        {
          "output_type": "display_data",
          "data": {
            "image/png": "[encoded data removed]",
            "text/plain": [
              "<Figure size 216x432 with 1 Axes>"
            ]
          },
          "metadata": {
            "needs_background": "light"
          }
        },
        {
          "output_type": "display_data",
          "data": {
            "image/png": "[encoded data removed]",
            "text/plain": [
              "<Figure size 216x432 with 1 Axes>"
            ]
          },
          "metadata": {
            "needs_background": "light"
          }
        },
        {
          "output_type": "display_data",
          "data": {
            "image/png": "[encoded data removed]",
            "text/plain": [
              "<Figure size 216x432 with 1 Axes>"
            ]
          },
          "metadata": {
            "needs_background": "light"
          }
        },
        {
          "output_type": "display_data",
          "data": {
            "image/png": "[encoded data removed]",
            "text/plain": [
              "<Figure size 216x432 with 1 Axes>"
            ]
          },
          "metadata": {
            "needs_background": "light"
          }
        },
        {
          "output_type": "display_data",
          "data": {
            "image/png": "[encoded data removed]",
            "text/plain": [
              "<Figure size 216x432 with 1 Axes>"
            ]
          },
          "metadata": {
            "needs_background": "light"
          }
        },
        {
          "output_type": "display_data",
          "data": {
            "image/png": "[encoded data removed]",
            "text/plain": [
              "<Figure size 216x432 with 1 Axes>"
            ]
          },
          "metadata": {
            "needs_background": "light"
          }
        },
        {
          "output_type": "display_data",
          "data": {
            "image/png": "[encoded data removed]",
            "text/plain": [
              "<Figure size 216x432 with 1 Axes>"
            ]
          },
          "metadata": {
            "needs_background": "light"
          }
        },
        {
          "output_type": "display_data",
          "data": {
            "image/png": "[encoded data removed]",
            "text/plain": [
              "<Figure size 216x432 with 1 Axes>"
            ]
          },
          "metadata": {
            "needs_background": "light"
          }
        },
        {
          "output_type": "display_data",
          "data": {
            "image/png": "[encoded data removed]",
            "text/plain": [
              "<Figure size 216x432 with 1 Axes>"
            ]
          },
          "metadata": {
            "needs_background": "light"
          }
        },
        {
          "output_type": "display_data",
          "data": {
            "image/png": "[encoded data removed]",
            "text/plain": [
              "<Figure size 216x432 with 1 Axes>"
            ]
          },
          "metadata": {
            "needs_background": "light"
          }
        },
        {
          "output_type": "display_data",
          "data": {
            "image/png": "[encoded data removed]",
            "text/plain": [
              "<Figure size 216x432 with 1 Axes>"
            ]
          },
          "metadata": {
            "needs_background": "light"
          }
        },
        {
          "output_type": "display_data",
          "data": {
            "image/png": "[encoded data removed]",
            "text/plain": [
              "<Figure size 216x432 with 1 Axes>"
            ]
          },
          "metadata": {
            "needs_background": "light"
          }
        },
        {
          "output_type": "display_data",
          "data": {
            "image/png": "[encoded data removed]",
            "text/plain": [
              "<Figure size 216x432 with 1 Axes>"
            ]
          },
          "metadata": {
            "needs_background": "light"
          }
        },
        {
          "output_type": "display_data",
          "data": {
            "image/png": "[encoded data removed]",
            "text/plain": [
              "<Figure size 216x432 with 1 Axes>"
            ]
          },
          "metadata": {
            "needs_background": "light"
          }
        },
        {
          "output_type": "display_data",
          "data": {
            "image/png": "[encoded data removed]",
            "text/plain": [
              "<Figure size 216x432 with 1 Axes>"
            ]
          },
          "metadata": {
            "needs_background": "light"
          }
        },
        {
          "output_type": "display_data",
          "data": {
            "image/png": "[encoded data removed]",
            "text/plain": [
              "<Figure size 216x432 with 1 Axes>"
            ]
          },
          "metadata": {
            "needs_background": "light"
          }
        },
        {
          "output_type": "display_data",
          "data": {
            "image/png": "[encoded data removed]",
            "text/plain": [
              "<Figure size 216x432 with 1 Axes>"
            ]
          },
          "metadata": {
            "needs_background": "light"
          }
        },
        {
          "output_type": "display_data",
          "data": {
            "image/png": "[encoded data removed]",
            "text/plain": [
              "<Figure size 216x432 with 1 Axes>"
            ]
          },
          "metadata": {
            "needs_background": "light"
          }
        },
        {
          "output_type": "display_data",
          "data": {
            "image/png": "[encoded data removed]",
            "text/plain": [
              "<Figure size 216x432 with 1 Axes>"
            ]
          },
          "metadata": {
            "needs_background": "light"
          }
        },
        {
          "output_type": "display_data",
          "data": {
            "image/png": "[encoded data removed]",
            "text/plain": [
              "<Figure size 216x432 with 1 Axes>"
            ]
          },
          "metadata": {
            "needs_background": "light"
          }
        },
        {
          "output_type": "display_data",
          "data": {
            "image/png": "[encoded data removed]",
            "text/plain": [
              "<Figure size 216x432 with 1 Axes>"
            ]
          },
          "metadata": {
            "needs_background": "light"
          }
        },
        {
          "output_type": "display_data",
          "data": {
            "image/png": "[encoded data removed]",
            "text/plain": [
              "<Figure size 216x432 with 1 Axes>"
            ]
          },
          "metadata": {
            "needs_background": "light"
          }
        },
        {
          "output_type": "display_data",
          "data": {
            "image/png": "[encoded data removed]",
            "text/plain": [
              "<Figure size 216x432 with 1 Axes>"
            ]
          },
          "metadata": {
            "needs_background": "light"
          }
        },
        {
          "output_type": "display_data",
          "data": {
            "image/png": "[encoded data removed]",
            "text/plain": [
              "<Figure size 216x432 with 1 Axes>"
            ]
          },
          "metadata": {
            "needs_background": "light"
          }
        },
        {
          "output_type": "display_data",
          "data": {
            "image/png": "[encoded data removed]",
            "text/plain": [
              "<Figure size 216x432 with 1 Axes>"
            ]
          },
          "metadata": {
            "needs_background": "light"
          }
        },
        {
          "output_type": "display_data",
          "data": {
            "image/png": "[encoded data removed]",
            "text/plain": [
              "<Figure size 216x432 with 1 Axes>"
            ]
          },
          "metadata": {
            "needs_background": "light"
          }
        },
        {
          "output_type": "display_data",
          "data": {
            "image/png": "[encoded data removed]",
            "text/plain": [
              "<Figure size 216x432 with 1 Axes>"
            ]
          },
          "metadata": {
            "needs_background": "light"
          }
        },
        {
          "output_type": "display_data",
          "data": {
            "image/png": "[encoded data removed]",
            "text/plain": [
              "<Figure size 216x432 with 1 Axes>"
            ]
          },
          "metadata": {
            "needs_background": "light"
          }
        },
        {
          "output_type": "display_data",
          "data": {
            "image/png": "[encoded data removed]",
            "text/plain": [
              "<Figure size 216x432 with 1 Axes>"
            ]
          },
          "metadata": {
            "needs_background": "light"
          }
        },
        {
          "output_type": "display_data",
          "data": {
            "image/png": "[encoded data removed]",
            "text/plain": [
              "<Figure size 216x432 with 1 Axes>"
            ]
          },
          "metadata": {
            "needs_background": "light"
          }
        },
        {
          "output_type": "display_data",
          "data": {
            "image/png": "[encoded data removed]",
            "text/plain": [
              "<Figure size 216x432 with 1 Axes>"
            ]
          },
          "metadata": {
            "needs_background": "light"
          }
        },
        {
          "output_type": "display_data",
          "data": {
            "image/png": "[encoded data removed]",
            "text/plain": [
              "<Figure size 216x432 with 1 Axes>"
            ]
          },
          "metadata": {
            "needs_background": "light"
          }
        },
        {
          "output_type": "display_data",
          "data": {
            "image/png": "[encoded data removed]",
            "text/plain": [
              "<Figure size 216x432 with 1 Axes>"
            ]
          },
          "metadata": {
            "needs_background": "light"
          }
        },
        {
          "output_type": "display_data",
          "data": {
            "image/png": "[encoded data removed]",
            "text/plain": [
              "<Figure size 216x432 with 1 Axes>"
            ]
          },
          "metadata": {
            "needs_background": "light"
          }
        },
        {
          "output_type": "display_data",
          "data": {
            "image/png": "[encoded data removed]",
            "text/plain": [
              "<Figure size 216x432 with 1 Axes>"
            ]
          },
          "metadata": {
            "needs_background": "light"
          }
        },
        {
          "output_type": "display_data",
          "data": {
            "image/png": "[encoded data removed]",
            "text/plain": [
              "<Figure size 216x432 with 1 Axes>"
            ]
          },
          "metadata": {
            "needs_background": "light"
          }
        },
        {
          "output_type": "display_data",
          "data": {
            "image/png": "[encoded data removed]",
            "text/plain": [
              "<Figure size 216x432 with 1 Axes>"
            ]
          },
          "metadata": {
            "needs_background": "light"
          }
        },
        {
          "output_type": "display_data",
          "data": {
            "image/png": "[encoded data removed]",
            "text/plain": [
              "<Figure size 216x432 with 1 Axes>"
            ]
          },
          "metadata": {
            "needs_background": "light"
          }
        },
        {
          "output_type": "display_data",
          "data": {
            "image/png": "[encoded data removed]",
            "text/plain": [
              "<Figure size 216x432 with 1 Axes>"
            ]
          },
          "metadata": {
            "needs_background": "light"
          }
        },
        {
          "output_type": "display_data",
          "data": {
            "image/png": "[encoded data removed]",
            "text/plain": [
              "<Figure size 216x432 with 1 Axes>"
            ]
          },
          "metadata": {
            "needs_background": "light"
          }
        },
        {
          "output_type": "display_data",
          "data": {
            "image/png": "[encoded data removed]",
            "text/plain": [
              "<Figure size 216x432 with 1 Axes>"
            ]
          },
          "metadata": {
            "needs_background": "light"
          }
        },
        {
          "output_type": "display_data",
          "data": {
            "image/png": "[encoded data removed]",
            "text/plain": [
              "<Figure size 216x432 with 1 Axes>"
            ]
          },
          "metadata": {
            "needs_background": "light"
          }
        },
        {
          "output_type": "display_data",
          "data": {
            "image/png": "[encoded data removed]",
            "text/plain": [
              "<Figure size 216x432 with 1 Axes>"
            ]
          },
          "metadata": {
            "needs_background": "light"
          }
        },
        {
          "output_type": "display_data",
          "data": {
            "image/png": "[encoded data removed]",
            "text/plain": [
              "<Figure size 216x432 with 1 Axes>"
            ]
          },
          "metadata": {
            "needs_background": "light"
          }
        },
        {
          "output_type": "display_data",
          "data": {
            "image/png": "[encoded data removed]",
            "text/plain": [
              "<Figure size 216x432 with 1 Axes>"
            ]
          },
          "metadata": {
            "needs_background": "light"
          }
        },
        {
          "output_type": "display_data",
          "data": {
            "image/png": "[encoded data removed]",
            "text/plain": [
              "<Figure size 216x432 with 1 Axes>"
            ]
          },
          "metadata": {
            "needs_background": "light"
          }
        },
        {
          "output_type": "display_data",
          "data": {
            "image/png": "[encoded data removed]",
            "text/plain": [
              "<Figure size 216x432 with 1 Axes>"
            ]
          },
          "metadata": {
            "needs_background": "light"
          }
        },
        {
          "output_type": "display_data",
          "data": {
            "image/png": "[encoded data removed]",
            "text/plain": [
              "<Figure size 216x432 with 1 Axes>"
            ]
          },
          "metadata": {
            "needs_background": "light"
          }
        },
        {
          "output_type": "display_data",
          "data": {
            "image/png": "[encoded data removed]",
            "text/plain": [
              "<Figure size 216x432 with 1 Axes>"
            ]
          },
          "metadata": {
            "needs_background": "light"
          }
        },
        {
          "output_type": "display_data",
          "data": {
            "image/png": "[encoded data removed]",
            "text/plain": [
              "<Figure size 216x432 with 1 Axes>"
            ]
          },
          "metadata": {
            "needs_background": "light"
          }
        },
        {
          "output_type": "display_data",
          "data": {
            "image/png": "[encoded data removed]",
            "text/plain": [
              "<Figure size 216x432 with 1 Axes>"
            ]
          },
          "metadata": {
            "needs_background": "light"
          }
        },
        {
          "output_type": "display_data",
          "data": {
            "image/png": "[encoded data removed]",
            "text/plain": [
              "<Figure size 216x432 with 1 Axes>"
            ]
          },
          "metadata": {
            "needs_background": "light"
          }
        },
        {
          "output_type": "display_data",
          "data": {
            "image/png": "[encoded data removed]",
            "text/plain": [
              "<Figure size 216x432 with 1 Axes>"
            ]
          },
          "metadata": {
            "needs_background": "light"
          }
        },
        {
          "output_type": "display_data",
          "data": {
            "image/png": "[encoded data removed]",
            "text/plain": [
              "<Figure size 216x432 with 1 Axes>"
            ]
          },
          "metadata": {
            "needs_background": "light"
          }
        },
        {
          "output_type": "display_data",
          "data": {
            "image/png": "[encoded data removed]",
            "text/plain": [
              "<Figure size 216x432 with 1 Axes>"
            ]
          },
          "metadata": {
            "needs_background": "light"
          }
        },
        {
          "output_type": "display_data",
          "data": {
            "image/png": "[encoded data removed]",
            "text/plain": [
              "<Figure size 216x432 with 1 Axes>"
            ]
          },
          "metadata": {
            "needs_background": "light"
          }
        },
        {
          "output_type": "display_data",
          "data": {
            "image/png": "[encoded data removed]",
            "text/plain": [
              "<Figure size 216x432 with 1 Axes>"
            ]
          },
          "metadata": {
            "needs_background": "light"
          }
        },
        {
          "output_type": "display_data",
          "data": {
            "image/png": "[encoded data removed]",
            "text/plain": [
              "<Figure size 216x432 with 1 Axes>"
            ]
          },
          "metadata": {
            "needs_background": "light"
          }
        },
        {
          "output_type": "display_data",
          "data": {
            "image/png": "[encoded data removed]",
            "text/plain": [
              "<Figure size 216x432 with 1 Axes>"
            ]
          },
          "metadata": {
            "needs_background": "light"
          }
        },
        {
          "output_type": "display_data",
          "data": {
            "image/png": "[encoded data removed]",
            "text/plain": [
              "<Figure size 216x432 with 1 Axes>"
            ]
          },
          "metadata": {
            "needs_background": "light"
          }
        },
        {
          "output_type": "display_data",
          "data": {
            "image/png": "[encoded data removed]",
            "text/plain": [
              "<Figure size 216x432 with 1 Axes>"
            ]
          },
          "metadata": {
            "needs_background": "light"
          }
        },
        {
          "output_type": "display_data",
          "data": {
            "image/png": "[encoded data removed]",
            "text/plain": [
              "<Figure size 216x432 with 1 Axes>"
            ]
          },
          "metadata": {
            "needs_background": "light"
          }
        },
        {
          "output_type": "display_data",
          "data": {
            "image/png": "[encoded data removed]",
            "text/plain": [
              "<Figure size 216x432 with 1 Axes>"
            ]
          },
          "metadata": {
            "needs_background": "light"
          }
        },
        {
          "output_type": "display_data",
          "data": {
            "image/png": "[encoded data removed]",
            "text/plain": [
              "<Figure size 216x432 with 1 Axes>"
            ]
          },
          "metadata": {
            "needs_background": "light"
          }
        },
        {
          "output_type": "display_data",
          "data": {
            "image/png": "[encoded data removed]",
            "text/plain": [
              "<Figure size 216x432 with 1 Axes>"
            ]
          },
          "metadata": {
            "needs_background": "light"
          }
        },
        {
          "output_type": "display_data",
          "data": {
            "image/png": "[encoded data removed]",
            "text/plain": [
              "<Figure size 216x432 with 1 Axes>"
            ]
          },
          "metadata": {
            "needs_background": "light"
          }
        },
        {
          "output_type": "display_data",
          "data": {
            "image/png": "[encoded data removed]",
            "text/plain": [
              "<Figure size 216x432 with 1 Axes>"
            ]
          },
          "metadata": {
            "needs_background": "light"
          }
        },
        {
          "output_type": "display_data",
          "data": {
            "image/png": "[encoded data removed]",
            "text/plain": [
              "<Figure size 216x432 with 1 Axes>"
            ]
          },
          "metadata": {
            "needs_background": "light"
          }
        },
        {
          "output_type": "display_data",
          "data": {
            "image/png": "[encoded data removed]",
            "text/plain": [
              "<Figure size 216x432 with 1 Axes>"
            ]
          },
          "metadata": {
            "needs_background": "light"
          }
        },
        {
          "output_type": "display_data",
          "data": {
            "image/png": "[encoded data removed]",
            "text/plain": [
              "<Figure size 216x432 with 1 Axes>"
            ]
          },
          "metadata": {
            "needs_background": "light"
          }
        },
        {
          "output_type": "display_data",
          "data": {
            "image/png": "[encoded data removed]",
            "text/plain": [
              "<Figure size 216x432 with 1 Axes>"
            ]
          },
          "metadata": {
            "needs_background": "light"
          }
        },
        {
          "output_type": "display_data",
          "data": {
            "image/png": "[encoded data removed]",
            "text/plain": [
              "<Figure size 216x432 with 1 Axes>"
            ]
          },
          "metadata": {
            "needs_background": "light"
          }
        },
        {
          "output_type": "display_data",
          "data": {
            "image/png": "[encoded data removed]",
            "text/plain": [
              "<Figure size 216x432 with 1 Axes>"
            ]
          },
          "metadata": {
            "needs_background": "light"
          }
        },
        {
          "output_type": "display_data",
          "data": {
            "image/png": "[encoded data removed]",
            "text/plain": [
              "<Figure size 216x432 with 1 Axes>"
            ]
          },
          "metadata": {
            "needs_background": "light"
          }
        },
        {
          "output_type": "display_data",
          "data": {
            "image/png": "[encoded data removed]",
            "text/plain": [
              "<Figure size 216x432 with 1 Axes>"
            ]
          },
          "metadata": {
            "needs_background": "light"
          }
        },
        {
          "output_type": "display_data",
          "data": {
            "image/png": "[encoded data removed]",
            "text/plain": [
              "<Figure size 216x432 with 1 Axes>"
            ]
          },
          "metadata": {
            "needs_background": "light"
          }
        },
        {
          "output_type": "display_data",
          "data": {
            "image/png": "[encoded data removed]",
            "text/plain": [
              "<Figure size 216x432 with 1 Axes>"
            ]
          },
          "metadata": {
            "needs_background": "light"
          }
        },
        {
          "output_type": "display_data",
          "data": {
            "image/png": "[encoded data removed]",
            "text/plain": [
              "<Figure size 216x432 with 1 Axes>"
            ]
          },
          "metadata": {
            "needs_background": "light"
          }
        },
        {
          "output_type": "display_data",
          "data": {
            "image/png": "[encoded data removed]",
            "text/plain": [
              "<Figure size 216x432 with 1 Axes>"
            ]
          },
          "metadata": {
            "needs_background": "light"
          }
        },
        {
          "output_type": "display_data",
          "data": {
            "image/png": "[encoded data removed]",
            "text/plain": [
              "<Figure size 216x432 with 1 Axes>"
            ]
          },
          "metadata": {
            "needs_background": "light"
          }
        },
        {
          "output_type": "display_data",
          "data": {
            "image/png": "[encoded data removed]",
            "text/plain": [
              "<Figure size 216x432 with 1 Axes>"
            ]
          },
          "metadata": {
            "needs_background": "light"
          }
        },
        {
          "output_type": "display_data",
          "data": {
            "image/png": "[encoded data removed]",
            "text/plain": [
              "<Figure size 216x432 with 1 Axes>"
            ]
          },
          "metadata": {
            "needs_background": "light"
          }
        },
        {
          "output_type": "display_data",
          "data": {
            "image/png": "[encoded data removed]",
            "text/plain": [
              "<Figure size 216x432 with 1 Axes>"
            ]
          },
          "metadata": {
            "needs_background": "light"
          }
        },
        {
          "output_type": "display_data",
          "data": {
            "image/png": "[encoded data removed]",
            "text/plain": [
              "<Figure size 216x432 with 1 Axes>"
            ]
          },
          "metadata": {
            "needs_background": "light"
          }
        },
        {
          "output_type": "display_data",
          "data": {
            "image/png": "[encoded data removed]",
            "text/plain": [
              "<Figure size 216x432 with 1 Axes>"
            ]
          },
          "metadata": {
            "needs_background": "light"
          }
        },
        {
          "output_type": "display_data",
          "data": {
            "image/png": "[encoded data removed]",
            "text/plain": [
              "<Figure size 216x432 with 1 Axes>"
            ]
          },
          "metadata": {
            "needs_background": "light"
          }
        },
        {
          "output_type": "display_data",
          "data": {
            "image/png": "[encoded data removed]",
            "text/plain": [
              "<Figure size 216x432 with 1 Axes>"
            ]
          },
          "metadata": {
            "needs_background": "light"
          }
        }
      ]
    },
    {
      "cell_type": "code",
      "source": [
        ""
      ],
      "metadata": {
        "id": "jOMKBEjQXr9v"
      },
      "execution_count": null,
      "outputs": []
    }
  ]
}